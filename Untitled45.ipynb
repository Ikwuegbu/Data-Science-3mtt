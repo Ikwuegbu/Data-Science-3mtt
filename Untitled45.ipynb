{
  "nbformat": 4,
  "nbformat_minor": 0,
  "metadata": {
    "colab": {
      "provenance": [],
      "authorship_tag": "ABX9TyM80/PTFTHcaLEhilt5k/FE",
      "include_colab_link": true
    },
    "kernelspec": {
      "name": "python3",
      "display_name": "Python 3"
    },
    "language_info": {
      "name": "python"
    }
  },
  "cells": [
    {
      "cell_type": "markdown",
      "metadata": {
        "id": "view-in-github",
        "colab_type": "text"
      },
      "source": [
        "<a href=\"https://colab.research.google.com/github/Ikwuegbu/Data-Science-3mtt/blob/main/Untitled45.ipynb\" target=\"_parent\"><img src=\"https://colab.research.google.com/assets/colab-badge.svg\" alt=\"Open In Colab\"/></a>"
      ]
    },
    {
      "cell_type": "code",
      "execution_count": null,
      "metadata": {
        "id": "3uYsBKNjOvHO"
      },
      "outputs": [],
      "source": [
        "# Test Staistics\n",
        "\n",
        "https://www.youtube.com/watch?v=QZ7kgmhdIwA&list=PL8dPuuaLjXtNM_Y-bUAhblSAdWRnmBUcr&index=28"
      ]
    }
  ]
}