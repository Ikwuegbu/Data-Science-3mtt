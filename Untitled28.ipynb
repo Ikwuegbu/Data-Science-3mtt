{
  "nbformat": 4,
  "nbformat_minor": 0,
  "metadata": {
    "colab": {
      "provenance": [],
      "authorship_tag": "ABX9TyP8ym/5vA0Bm5WkPcEjH/ow",
      "include_colab_link": true
    },
    "kernelspec": {
      "name": "python3",
      "display_name": "Python 3"
    },
    "language_info": {
      "name": "python"
    }
  },
  "cells": [
    {
      "cell_type": "markdown",
      "metadata": {
        "id": "view-in-github",
        "colab_type": "text"
      },
      "source": [
        "<a href=\"https://colab.research.google.com/github/Ikwuegbu/Data-Science-3mtt/blob/main/Untitled28.ipynb\" target=\"_parent\"><img src=\"https://colab.research.google.com/assets/colab-badge.svg\" alt=\"Open In Colab\"/></a>"
      ]
    },
    {
      "cell_type": "code",
      "execution_count": null,
      "metadata": {
        "id": "bXcLYXa9j-_k"
      },
      "outputs": [],
      "source": [
        "Reading in Files in Pandas\n",
        "\n",
        "https://www.youtube.com/watch?si=B3soQxxx7owiCsqa&v=dUpyC40cF6Q&feature=youtu.be"
      ]
    }
  ]
}