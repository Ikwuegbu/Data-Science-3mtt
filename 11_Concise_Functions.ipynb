{
  "cells": [
    {
      "cell_type": "markdown",
      "metadata": {
        "id": "view-in-github",
        "colab_type": "text"
      },
      "source": [
        "<a href=\"https://colab.research.google.com/github/Ikwuegbu/Data-Science-3mtt/blob/main/11_Concise_Functions.ipynb\" target=\"_parent\"><img src=\"https://colab.research.google.com/assets/colab-badge.svg\" alt=\"Open In Colab\"/></a>"
      ]
    },
    {
      "cell_type": "markdown",
      "id": "f08f62d0",
      "metadata": {
        "id": "f08f62d0"
      },
      "source": [
        "# L. Concise Functions"
      ]
    },
    {
      "cell_type": "markdown",
      "id": "b7250399",
      "metadata": {
        "id": "b7250399"
      },
      "source": [
        "## List Comprehension\n",
        "\n",
        "They offer a more concise way to create new lists in python. They offer a one-line alternative to using traditional for loops and append statements."
      ]
    },
    {
      "cell_type": "code",
      "execution_count": null,
      "id": "573743fb",
      "metadata": {
        "id": "573743fb",
        "outputId": "1510dffd-fad7-4759-e6b9-cb14bfff996a"
      },
      "outputs": [
        {
          "name": "stdout",
          "output_type": "stream",
          "text": [
            "[34, 56, 98, 66, 12]\n"
          ]
        }
      ],
      "source": [
        "#Here, we have a list of numbers. We want to check for thr numbers which\n",
        "#even and then append those values to the nums list\n",
        "\n",
        "nums = [34, 56, 77, 98, 66, 55, 33, 31, 12, 237]\n",
        "\n",
        "evens = []\n",
        "\n",
        "##Solution\n",
        "for num in nums:\n",
        "    if num%2 == 0:\n",
        "        evens.append(num)\n",
        "print(evens)\n"
      ]
    },
    {
      "cell_type": "code",
      "execution_count": null,
      "id": "ace4f68e",
      "metadata": {
        "id": "ace4f68e",
        "outputId": "0e2568de-3036-4dfe-ff22-1c0ce302a167"
      },
      "outputs": [
        {
          "name": "stdout",
          "output_type": "stream",
          "text": [
            "[34, 56, 98, 66, 12]\n"
          ]
        }
      ],
      "source": [
        "## List comprehension can do this in a better way\n",
        "\n",
        "evens = [num for num in nums if num%2 == 0]\n",
        "\n",
        "print(evens)"
      ]
    },
    {
      "cell_type": "markdown",
      "id": "ebd2357c",
      "metadata": {
        "id": "ebd2357c"
      },
      "source": [
        "**Syntax**\n",
        "\n",
        "lst = [expression for i in sequence]\n",
        "\n",
        "This says for every i in the sequence, apply the expression and add that expression value to the lst"
      ]
    },
    {
      "cell_type": "code",
      "execution_count": null,
      "id": "8a095533",
      "metadata": {
        "id": "8a095533",
        "outputId": "da770922-321b-44c1-def4-bdf080a584d0"
      },
      "outputs": [
        {
          "data": {
            "text/plain": [
              "['P', 'Y', 'T', 'H', 'O', 'N']"
            ]
          },
          "execution_count": 4,
          "metadata": {},
          "output_type": "execute_result"
        }
      ],
      "source": [
        "#example 1\n",
        "\n",
        "lst = [a for a in 'PYTHON']\n",
        "\n",
        "lst"
      ]
    },
    {
      "cell_type": "code",
      "execution_count": null,
      "id": "d55297bb",
      "metadata": {
        "id": "d55297bb",
        "outputId": "500bca13-2e2e-4017-bd77-c88c076ea92c"
      },
      "outputs": [
        {
          "name": "stdout",
          "output_type": "stream",
          "text": [
            "[1, 9, 25, 49, 81, 121, 169, 225, 289, 361]\n"
          ]
        }
      ],
      "source": [
        "#example 2\n",
        "\n",
        "lst = [i**2 for i in range(1,20) if i%2 != 0]\n",
        "print(lst)\n",
        "\n",
        "\n",
        "#Here, we are saying that for every i value in the sequence,\n",
        "#if the i value is an odd number then square it and append to the lst list\n",
        "\n",
        "#Typically the even numbers will be [1, 3, 5, 7, 9, 11, 13, 15, 17, 19]\n",
        "#And when you square these, you'll see the output"
      ]
    },
    {
      "cell_type": "code",
      "execution_count": null,
      "id": "bb2f10dd",
      "metadata": {
        "id": "bb2f10dd",
        "outputId": "043934d6-6802-4835-f915-5ca4c72b54e3"
      },
      "outputs": [
        {
          "data": {
            "text/plain": [
              "['B', 'H', 'D']"
            ]
          },
          "execution_count": 7,
          "metadata": {},
          "output_type": "execute_result"
        }
      ],
      "source": [
        "#example 3\n",
        "\n",
        "heros = ['Black Widow', 'Hawkeye', 'Doctor Strange']\n",
        "\n",
        "#extracting the first character of each name into a list\n",
        "\n",
        "lst = [word[0] for word in heros]\n",
        "lst"
      ]
    },
    {
      "cell_type": "code",
      "execution_count": null,
      "id": "011b7726",
      "metadata": {
        "id": "011b7726",
        "outputId": "84c7bd24-b97d-4cda-c071-50140490ff77"
      },
      "outputs": [
        {
          "name": "stdout",
          "output_type": "stream",
          "text": [
            "[['T', 1], ['H', 1], ['E', 1], [' ', 1], ['Q', 1], ['U', 1], ['I', 1], ['C', 1], ['K', 1], [' ', 1], ['F', 1], ['O', 1], ['X', 1], [' ', 1], ['A', 1], ['N', 1], ['D', 1], [' ', 1], ['T', 1], ['H', 1], ['E', 1], [' ', 1], ['S', 1], ['L', 1], ['O', 1], ['W', 1], [' ', 1], ['T', 1], ['O', 1], ['R', 1], ['T', 1], ['O', 1], ['I', 1], ['S', 1], ['E', 1], [' ', 1], ['W', 1], ['E', 1], ['R', 1], ['E', 1], [' ', 1], ['F', 1], ['R', 1], ['I', 1], ['E', 1], ['N', 1], ['D', 1], ['S', 1], [' ', 1], ['A', 1], [' ', 1], ['L', 1], ['O', 1], ['N', 1], ['G', 1], [' ', 1], ['T', 1], ['I', 1], ['M', 1], ['E', 1], [' ', 1], ['A', 1], ['G', 1], ['O', 1]]\n"
          ]
        }
      ],
      "source": [
        "#example 4\n",
        "\n",
        "string = 'The quick fox and the slow tortoise were friends a long time ago'\n",
        "\n",
        "#convert each word into upper case\n",
        "#and count the number of characters in each word\n",
        "\n",
        "lst = [[word.upper(), len(word)] for word in string]\n",
        "print(lst)"
      ]
    },
    {
      "cell_type": "code",
      "execution_count": null,
      "id": "c9714a46",
      "metadata": {
        "id": "c9714a46",
        "outputId": "bc55bcd1-9537-4439-d4de-c442c28fee13"
      },
      "outputs": [
        {
          "data": {
            "text/plain": [
              "[['THE', 3],\n",
              " ['QUICK', 5],\n",
              " ['FOX', 3],\n",
              " ['AND', 3],\n",
              " ['THE', 3],\n",
              " ['SLOW', 4],\n",
              " ['TORTOISE', 8],\n",
              " ['WERE', 4],\n",
              " ['FRIENDS', 7],\n",
              " ['A', 1],\n",
              " ['LONG', 4],\n",
              " ['TIME', 4],\n",
              " ['AGO', 3]]"
            ]
          },
          "execution_count": 12,
          "metadata": {},
          "output_type": "execute_result"
        }
      ],
      "source": [
        "#the above capitalizes each letter but this is not what we desire\n",
        "#to rectify this we use split to seoerate the words from each other\n",
        "\n",
        "lst = [[word.upper(), len(word)] for word in string.split(' ')]\n",
        "lst"
      ]
    },
    {
      "cell_type": "markdown",
      "id": "4eca2669",
      "metadata": {
        "id": "4eca2669"
      },
      "source": [
        "## Anonymous Functions\n",
        "\n",
        "AKA lambda functions. These are functions defined without a name using the lambda keyword. They are defined in a sinbgle line of code and can only contain one expression which repesents the function's body and return value.\n",
        "\n",
        "**Syntax:** lambda arguments: expression"
      ]
    },
    {
      "cell_type": "code",
      "execution_count": null,
      "id": "fa34dde6",
      "metadata": {
        "id": "fa34dde6",
        "outputId": "ff61717d-4463-4bde-d492-313e59c6a3c2"
      },
      "outputs": [
        {
          "name": "stdout",
          "output_type": "stream",
          "text": [
            "25\n"
          ]
        }
      ],
      "source": [
        "# normal function definition\n",
        "\n",
        "def square(n):\n",
        "    return n**2\n",
        "print(square(5))"
      ]
    },
    {
      "cell_type": "code",
      "execution_count": null,
      "id": "671d7bf5",
      "metadata": {
        "id": "671d7bf5",
        "outputId": "464dc184-9254-4d02-82f9-3433ed1d51d5"
      },
      "outputs": [
        {
          "name": "stdout",
          "output_type": "stream",
          "text": [
            "25\n"
          ]
        }
      ],
      "source": [
        "#using lambda\n",
        "\n",
        "lambda_sq = lambda n: n**2\n",
        "\n",
        "print(lambda_sq(5))"
      ]
    },
    {
      "cell_type": "code",
      "execution_count": null,
      "id": "1d62f3d2",
      "metadata": {
        "id": "1d62f3d2",
        "outputId": "b69902e9-f819-4d03-8fbc-3815ae428d85"
      },
      "outputs": [
        {
          "name": "stdout",
          "output_type": "stream",
          "text": [
            "12\n"
          ]
        }
      ],
      "source": [
        "#using lambda with two arguments\n",
        "\n",
        "prod = lambda a,b: a*b\n",
        "\n",
        "print(prod(3,4))"
      ]
    },
    {
      "cell_type": "code",
      "execution_count": null,
      "id": "cc6f4b7c",
      "metadata": {
        "id": "cc6f4b7c",
        "outputId": "00adf67a-f022-432f-cde0-27ce84675042"
      },
      "outputs": [
        {
          "name": "stdout",
          "output_type": "stream",
          "text": [
            "67849\n"
          ]
        }
      ],
      "source": [
        "#using lambda again and a concept from list comprehension\n",
        "\n",
        "greater = lambda a,b: a if a>b else b\n",
        "\n",
        "print(greater(345, 67849))"
      ]
    },
    {
      "cell_type": "markdown",
      "id": "490acbbc",
      "metadata": {
        "id": "490acbbc"
      },
      "source": [
        "## filter()\n",
        "\n",
        "A built-in python functions that allows you to efficiently process an iterable like a tuple, list or string and return a new iterator containing only the elements that meet a certain condition\n",
        "\n",
        "**Syntax:** filter(function, sequence)"
      ]
    },
    {
      "cell_type": "markdown",
      "id": "dada135d",
      "metadata": {
        "id": "dada135d"
      },
      "source": [
        "**Problem:**\n",
        "We have 10 numbers and we want to filter only the even numbers from that list."
      ]
    },
    {
      "cell_type": "code",
      "execution_count": null,
      "id": "6060e4d8",
      "metadata": {
        "id": "6060e4d8",
        "outputId": "5e486f86-6b41-495f-81e0-62c5ecdd7919"
      },
      "outputs": [
        {
          "name": "stdout",
          "output_type": "stream",
          "text": [
            "<filter object at 0x000001ADBA1D2790>\n",
            "<class 'filter'>\n"
          ]
        }
      ],
      "source": [
        "#Using traditional means of problem solving\n",
        "\n",
        "def isEven(x):\n",
        "    if x%2 == 0:\n",
        "        return True\n",
        "    else:\n",
        "        return False\n",
        "\n",
        "lst = [0,1,2,3,4,5,6,7,8,9,10]\n",
        "\n",
        "filtered_list = filter(isEven, lst)\n",
        "\n",
        "print(filtered_list)\n",
        "print(type(filtered_list))"
      ]
    },
    {
      "cell_type": "code",
      "execution_count": null,
      "id": "efeff726",
      "metadata": {
        "id": "efeff726",
        "outputId": "c8cfce7a-8133-4dc7-ee30-9b82dfe46cd0"
      },
      "outputs": [
        {
          "name": "stdout",
          "output_type": "stream",
          "text": [
            "[0, 2, 4, 6, 8, 10]\n",
            "<class 'list'>\n"
          ]
        }
      ],
      "source": [
        "#from the above we can see the result and type of the results, so we need to convert the results to a list\n",
        "\n",
        "filtered_list = list(filter(isEven, lst))\n",
        "\n",
        "print(filtered_list)\n",
        "print(type(filtered_list))"
      ]
    },
    {
      "cell_type": "code",
      "execution_count": null,
      "id": "a2c662c6",
      "metadata": {
        "id": "a2c662c6",
        "outputId": "4ee5cbb1-c00e-4e41-82c1-a3ec23ed3366"
      },
      "outputs": [
        {
          "name": "stdout",
          "output_type": "stream",
          "text": [
            "[0, 2, 4, 6, 8, 10]\n"
          ]
        }
      ],
      "source": [
        "#Using concise problem solving\n",
        "\n",
        "lst = [0,1,2,3,4,5,6,7,8,9,10]\n",
        "\n",
        "filtered_list = list(filter(lambda x: x%2 == 0, lst))\n",
        "\n",
        "print(filtered_list)"
      ]
    },
    {
      "cell_type": "markdown",
      "id": "8f12d5e5",
      "metadata": {
        "id": "8f12d5e5"
      },
      "source": [
        "## map()\n",
        "\n",
        "Built-in python function used to apply a function to all elements of an iterable and return a new iterator containing the results\n",
        "\n",
        "**Synatx:** map(function, sequence)"
      ]
    },
    {
      "cell_type": "code",
      "execution_count": null,
      "id": "48c1ee57",
      "metadata": {
        "id": "48c1ee57",
        "outputId": "0d59a70a-adf9-497f-88a6-3a036e3f94cb"
      },
      "outputs": [
        {
          "data": {
            "text/plain": [
              "[2, 4, 8, 10, 12]"
            ]
          },
          "execution_count": 23,
          "metadata": {},
          "output_type": "execute_result"
        }
      ],
      "source": [
        "#EXAMPLE 1\n",
        "#traditional problem solving\n",
        "\n",
        "def double(x):\n",
        "    return 2*x\n",
        "\n",
        "lst = [1,2,4,5,6]\n",
        "\n",
        "new_list = list(map(double, lst))\n",
        "new_list"
      ]
    },
    {
      "cell_type": "code",
      "execution_count": null,
      "id": "1e484efc",
      "metadata": {
        "id": "1e484efc",
        "outputId": "1109a457-fea9-4379-a325-a38ebcfedf56"
      },
      "outputs": [
        {
          "data": {
            "text/plain": [
              "[2, 4, 8, 10, 12]"
            ]
          },
          "execution_count": 24,
          "metadata": {},
          "output_type": "execute_result"
        }
      ],
      "source": [
        "#concise problem solving\n",
        "\n",
        "new_list = list(map(lambda x: 2*x, lst))\n",
        "new_list"
      ]
    },
    {
      "cell_type": "code",
      "execution_count": null,
      "id": "047c951b",
      "metadata": {
        "id": "047c951b",
        "outputId": "3cb4ff0f-f8df-4719-adb4-ba6d604d53e7"
      },
      "outputs": [
        {
          "data": {
            "text/plain": [
              "[4, 10, 18]"
            ]
          },
          "execution_count": 26,
          "metadata": {},
          "output_type": "execute_result"
        }
      ],
      "source": [
        "#EXAMPLE 2\n",
        "\n",
        "#multiplying two lists element wise\n",
        "list1 = [1,2,3]\n",
        "list2 = [4,5,6]\n",
        "\n",
        "new_list = list(map(lambda x,y: x*y, list1, list2))\n",
        "new_list"
      ]
    },
    {
      "cell_type": "markdown",
      "id": "c21a880f",
      "metadata": {
        "id": "c21a880f"
      },
      "source": [
        "## reduce()\n",
        "\n",
        "This function is used to reduce a sequence of elements nto a single element by applying the specified function\n",
        "\n",
        "It is present in the functools module.\n",
        "\n",
        "**Syntax**\n",
        "\n",
        "`from functools import *`\n",
        "\n",
        "`reduce(function, sequence)`"
      ]
    },
    {
      "cell_type": "code",
      "execution_count": null,
      "id": "b193e192",
      "metadata": {
        "id": "b193e192",
        "outputId": "8ffaae0b-0e9c-4dfa-c0a2-b1647590fcd2"
      },
      "outputs": [
        {
          "data": {
            "text/plain": [
              "45"
            ]
          },
          "execution_count": 27,
          "metadata": {},
          "output_type": "execute_result"
        }
      ],
      "source": [
        "from functools import *\n",
        "\n",
        "lst = [1,2,3,4,5,6,7,8,9]\n",
        "\n",
        "reduced_list = reduce(lambda x,y: x+y, lst)\n",
        "\n",
        "reduced_list"
      ]
    }
  ],
  "metadata": {
    "kernelspec": {
      "display_name": "Python 3 (ipykernel)",
      "language": "python",
      "name": "python3"
    },
    "language_info": {
      "codemirror_mode": {
        "name": "ipython",
        "version": 3
      },
      "file_extension": ".py",
      "mimetype": "text/x-python",
      "name": "python",
      "nbconvert_exporter": "python",
      "pygments_lexer": "ipython3",
      "version": "3.12.7"
    },
    "colab": {
      "provenance": [],
      "include_colab_link": true
    }
  },
  "nbformat": 4,
  "nbformat_minor": 5
}