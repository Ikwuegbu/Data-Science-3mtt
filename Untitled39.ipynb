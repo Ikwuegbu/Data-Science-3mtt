{
  "nbformat": 4,
  "nbformat_minor": 0,
  "metadata": {
    "colab": {
      "provenance": [],
      "authorship_tag": "ABX9TyPvQuV7bby+qPU021ZO55OH",
      "include_colab_link": true
    },
    "kernelspec": {
      "name": "python3",
      "display_name": "Python 3"
    },
    "language_info": {
      "name": "python"
    }
  },
  "cells": [
    {
      "cell_type": "markdown",
      "metadata": {
        "id": "view-in-github",
        "colab_type": "text"
      },
      "source": [
        "<a href=\"https://colab.research.google.com/github/Ikwuegbu/Data-Science-3mtt/blob/main/Untitled39.ipynb\" target=\"_parent\"><img src=\"https://colab.research.google.com/assets/colab-badge.svg\" alt=\"Open In Colab\"/></a>"
      ]
    },
    {
      "cell_type": "code",
      "execution_count": null,
      "metadata": {
        "id": "9IMAxuYAIqHS"
      },
      "outputs": [],
      "source": [
        "# How to handle missing values in categorical features\n",
        "\n",
        "https://www.youtube.com/watch?v=q-DyjA8ZmYM&t=254s"
      ]
    }
  ]
}