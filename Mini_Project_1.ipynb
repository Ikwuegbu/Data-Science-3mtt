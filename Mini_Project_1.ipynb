{
  "nbformat": 4,
  "nbformat_minor": 0,
  "metadata": {
    "colab": {
      "provenance": [],
      "authorship_tag": "ABX9TyNSfAj3Lw+6njjSN8S3zwLS",
      "include_colab_link": true
    },
    "kernelspec": {
      "name": "python3",
      "display_name": "Python 3"
    },
    "language_info": {
      "name": "python"
    }
  },
  "cells": [
    {
      "cell_type": "markdown",
      "metadata": {
        "id": "view-in-github",
        "colab_type": "text"
      },
      "source": [
        "<a href=\"https://colab.research.google.com/github/Ikwuegbu/Data-Science-3mtt/blob/main/Mini_Project_1.ipynb\" target=\"_parent\"><img src=\"https://colab.research.google.com/assets/colab-badge.svg\" alt=\"Open In Colab\"/></a>"
      ]
    },
    {
      "cell_type": "code",
      "execution_count": 1,
      "metadata": {
        "colab": {
          "base_uri": "https://localhost:8080/"
        },
        "id": "uq3Ck8VvfppZ",
        "outputId": "f704ff3d-762c-4ffa-fdc9-f88244f28620"
      },
      "outputs": [
        {
          "output_type": "stream",
          "name": "stdout",
          "text": [
            "Welcome to the Africa Knowledge Quiz!\n",
            "1. What is the most populous country in Africa? Nigeria\n",
            "✅ Correct!\n",
            "2. What ocean lies to the east of Africa? Pacific\n",
            "❌ Incorrect. The correct answer is Indian Ocean.\n",
            "3. Which African country is known for the pyramids? Egypt\n",
            "✅ Correct!\n",
            "4. What is the name of the trade agreement aimed at unifying African markets? African Union\n",
            "❌ Incorrect. The correct answer is AfCFTA (African Continental Free Trade Area).\n",
            "5. Which African lake is the world's second-largest freshwater lake by surface area? Victoria\n",
            "❌ Incorrect. The correct answer is Lake Victoria.\n",
            "\n",
            "🎯 You scored 2 out of 5.\n",
            "📘 Keep learning. Africa has a lot to explore!\n"
          ]
        }
      ],
      "source": [
        "# Create a quiz game made up of 5 questions. the user should be able to enter in answers and the final score calculated\n",
        "def quiz_game():\n",
        "    print(\"Welcome to the Africa Knowledge Quiz!\")\n",
        "    score = 0\n",
        "\n",
        "    # Question 1\n",
        "    answer1 = input(\"1. What is the most populous country in Africa? \").strip().lower()\n",
        "    if answer1 == \"nigeria\":\n",
        "        print(\"✅ Correct!\")\n",
        "        score += 1\n",
        "    else:\n",
        "        print(\"❌ Incorrect. The correct answer is Nigeria.\")\n",
        "\n",
        "    # Question 2\n",
        "    answer2 = input(\"2. What ocean lies to the east of Africa? \").strip().lower()\n",
        "    if answer2 == \"indian ocean\":\n",
        "        print(\"✅ Correct!\")\n",
        "        score += 1\n",
        "    else:\n",
        "        print(\"❌ Incorrect. The correct answer is Indian Ocean.\")\n",
        "\n",
        "    # Question 3\n",
        "    answer3 = input(\"3. Which African country is known for the pyramids? \").strip().lower()\n",
        "    if answer3 == \"egypt\":\n",
        "        print(\"✅ Correct!\")\n",
        "        score += 1\n",
        "    else:\n",
        "        print(\"❌ Incorrect. The correct answer is Egypt.\")\n",
        "\n",
        "    # Question 4\n",
        "    answer4 = input(\"4. What is the name of the trade agreement aimed at unifying African markets? \").strip().lower()\n",
        "    if \"afcfta\" in answer4 or \"african continental free trade area\" in answer4:\n",
        "        print(\"✅ Correct!\")\n",
        "        score += 1\n",
        "    else:\n",
        "        print(\"❌ Incorrect. The correct answer is AfCFTA (African Continental Free Trade Area).\")\n",
        "\n",
        "    # Question 5\n",
        "    answer5 = input(\"5. Which African lake is the world's second-largest freshwater lake by surface area? \").strip().lower()\n",
        "    if answer5 == \"lake victoria\":\n",
        "        print(\"✅ Correct!\")\n",
        "        score += 1\n",
        "    else:\n",
        "        print(\"❌ Incorrect. The correct answer is Lake Victoria.\")\n",
        "\n",
        "    # Final Score\n",
        "    print(f\"\\n🎯 You scored {score} out of 5.\")\n",
        "    if score == 5:\n",
        "        print(\"🏆 Excellent! You know your stuff!\")\n",
        "    elif 3 <= score < 5:\n",
        "        print(\"👍 Good job! A bit more study and you'll be perfect.\")\n",
        "    else:\n",
        "        print(\"📘 Keep learning. Africa has a lot to explore!\")\n",
        "\n",
        "# Run the quiz\n",
        "quiz_game()\n"
      ]
    },
    {
      "cell_type": "code",
      "source": [
        "# Create a python program that swaps two numbers entered by the user and displays the values before and after swapping\n",
        "\n",
        "# Get user input\n",
        "num1 = input(\"Enter the first number: \")\n",
        "num2 = input(\"Enter the second number: \")\n",
        "\n",
        "# Display before swapping\n",
        "print(\"\\nBefore Swapping:\")\n",
        "print(\"First number:\", num1)\n",
        "print(\"Second number:\", num2)\n",
        "\n",
        "# Swap the numbers\n",
        "temp = num1\n",
        "num1 = num2\n",
        "num2 = temp\n",
        "\n",
        "# Display after swapping\n",
        "print(\"\\nAfter Swapping:\")\n",
        "print(\"First number:\", num1)\n",
        "print(\"Second number:\", num2)\n"
      ],
      "metadata": {
        "colab": {
          "base_uri": "https://localhost:8080/"
        },
        "id": "Kg8pvDPMgajp",
        "outputId": "abb40d67-8cf4-4a0a-b3bc-c28c698a54e5"
      },
      "execution_count": 2,
      "outputs": [
        {
          "output_type": "stream",
          "name": "stdout",
          "text": [
            "Enter the first number: 1\n",
            "Enter the second number: 4\n",
            "\n",
            "Before Swapping:\n",
            "First number: 1\n",
            "Second number: 4\n",
            "\n",
            "After Swapping:\n",
            "First number: 4\n",
            "Second number: 1\n"
          ]
        }
      ]
    },
    {
      "cell_type": "code",
      "source": [
        "# Write a code/logic to determine if the value entered is a prime number, an armstrong number or a palindrome number\n",
        "\n",
        "def is_prime(n):\n",
        "    if n <= 1:\n",
        "        return False\n",
        "    for i in range(2, int(n**0.5) + 1):\n",
        "        if n % i == 0:\n",
        "            return False\n",
        "    return True\n",
        "\n",
        "def is_armstrong(n):\n",
        "    num_str = str(n)\n",
        "    num_digits = len(num_str)\n",
        "    return n == sum(int(digit)**num_digits for digit in num_str)\n",
        "\n",
        "def is_palindrome(n):\n",
        "    return str(n) == str(n)[::-1]\n",
        "\n",
        "# Main program\n",
        "try:\n",
        "    num = int(input(\"Enter a positive integer: \"))\n",
        "\n",
        "    print(\"\\nResults:\")\n",
        "    if is_prime(num):\n",
        "        print(f\"{num} is a Prime number.\")\n",
        "    else:\n",
        "        print(f\"{num} is NOT a Prime number.\")\n",
        "\n",
        "    if is_armstrong(num):\n",
        "        print(f\"{num} is an Armstrong number.\")\n",
        "    else:\n",
        "        print(f\"{num} is NOT an Armstrong number.\")\n",
        "\n",
        "    if is_palindrome(num):\n",
        "        print(f\"{num} is a Palindrome number.\")\n",
        "    else:\n",
        "        print(f\"{num} is NOT a Palindrome number.\")\n",
        "\n",
        "except ValueError:\n",
        "    print(\"Please enter a valid integer.\")\n"
      ],
      "metadata": {
        "colab": {
          "base_uri": "https://localhost:8080/"
        },
        "id": "D8KSo-EKh5IK",
        "outputId": "67c1fe8a-c902-441c-97fa-497263d96da6"
      },
      "execution_count": 3,
      "outputs": [
        {
          "output_type": "stream",
          "name": "stdout",
          "text": [
            "Enter a positive integer: 1\n",
            "\n",
            "Results:\n",
            "1 is NOT a Prime number.\n",
            "1 is an Armstrong number.\n",
            "1 is a Palindrome number.\n"
          ]
        }
      ]
    },
    {
      "cell_type": "code",
      "source": [
        "# Create a python program that generates the first n terms of the Fibonacci sequence based on user input\n",
        "\n",
        "def generate_fibonacci(n):\n",
        "    fibonacci_sequence = []\n",
        "    a, b = 0, 1\n",
        "    for _ in range(n):\n",
        "        fibonacci_sequence.append(a)\n",
        "        a, b = b, a + b\n",
        "    return fibonacci_sequence\n",
        "\n",
        "# Main program\n",
        "try:\n",
        "    n = int(input(\"Enter the number of terms in the Fibonacci sequence: \"))\n",
        "    if n <= 0:\n",
        "        print(\"Please enter a positive integer.\")\n",
        "    else:\n",
        "        result = generate_fibonacci(n)\n",
        "        print(f\"\\nThe first {n} terms of the Fibonacci sequence are:\")\n",
        "        print(result)\n",
        "except ValueError:\n",
        "    print(\"Invalid input. Please enter a valid integer.\")\n"
      ],
      "metadata": {
        "colab": {
          "base_uri": "https://localhost:8080/"
        },
        "id": "kyMtJ3Xfjiae",
        "outputId": "8edb45d7-3d39-486a-9a82-808a5dc5b553"
      },
      "execution_count": 4,
      "outputs": [
        {
          "output_type": "stream",
          "name": "stdout",
          "text": [
            "Enter the number of terms in the Fibonacci sequence: 4\n",
            "\n",
            "The first 4 terms of the Fibonacci sequence are:\n",
            "[0, 1, 1, 2]\n"
          ]
        }
      ]
    }
  ]
}