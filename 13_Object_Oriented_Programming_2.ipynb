{
  "cells": [
    {
      "cell_type": "markdown",
      "metadata": {
        "id": "view-in-github",
        "colab_type": "text"
      },
      "source": [
        "<a href=\"https://colab.research.google.com/github/Ikwuegbu/Data-Science-3mtt/blob/main/13_Object_Oriented_Programming_2.ipynb\" target=\"_parent\"><img src=\"https://colab.research.google.com/assets/colab-badge.svg\" alt=\"Open In Colab\"/></a>"
      ]
    },
    {
      "cell_type": "markdown",
      "id": "2e8979e5",
      "metadata": {
        "id": "2e8979e5"
      },
      "source": [
        "# Object Oriented Programming Continued...........\n",
        "\n",
        "**Encapsulation**: groups related functions and variables together = reduce complexity and increase reusability\n",
        "\n",
        "**Abstraction**: hides the details and complexities and shows the essential = reduces complexity and isolates the impact of changes in the code\n",
        "\n",
        "**Inheritance**: eliminates redundant code\n",
        "\n",
        "**Polymorphism**: refactor ugly switch/case statements"
      ]
    },
    {
      "cell_type": "markdown",
      "id": "5bd39901",
      "metadata": {
        "id": "5bd39901"
      },
      "source": [
        "## Inheritance\n",
        "\n",
        "It is the ability of one class to derive or inherit the properties from another class. It also has it's types.\n",
        "\n",
        "- It represents real world relationships\n",
        "- We don't have to write the same code again and again and we can add more features to a clas without modifying it"
      ]
    },
    {
      "cell_type": "markdown",
      "id": "b32c723c",
      "metadata": {
        "id": "b32c723c"
      },
      "source": [
        "### 1. Single inheritance\n",
        "\n",
        "A single parent to child relationship"
      ]
    },
    {
      "cell_type": "code",
      "execution_count": null,
      "id": "80618aa6",
      "metadata": {
        "id": "80618aa6"
      },
      "outputs": [],
      "source": [
        "# What the code looks like without any inheritance\n",
        "\n",
        "class A:\n",
        "    def m1():\n",
        "        pass\n",
        "    def m2():\n",
        "        pass\n",
        "\n",
        "class B:\n",
        "    def m1():\n",
        "        pass\n",
        "    def m2():\n",
        "        pass\n",
        "    def m3():\n",
        "        pass\n",
        "    def m4():\n",
        "        pass\n",
        "\n",
        "#Notice how we had to copy and paste all the methods from classA to ClassB, imagine we have these for a more complex code"
      ]
    },
    {
      "cell_type": "code",
      "execution_count": null,
      "id": "940040ca",
      "metadata": {
        "id": "940040ca"
      },
      "outputs": [],
      "source": [
        "# With inheritance\n",
        "\n",
        "#This is the parent class\n",
        "class A:\n",
        "    def m1(self):\n",
        "        print('Class A, method 1')\n",
        "\n",
        "    def m2(self):\n",
        "        print('Class A, method 2')\n",
        "\n",
        "#the child inheriting from the first class\n",
        "class B(A):\n",
        "    def m3(self):\n",
        "        print('Class B, method 3')\n",
        "\n",
        "    def m4(self):\n",
        "        print('Class B, method 4')"
      ]
    },
    {
      "cell_type": "code",
      "execution_count": null,
      "id": "3022f353",
      "metadata": {
        "id": "3022f353",
        "outputId": "b53a8acd-35f3-49a6-fd10-e421c3b4554a"
      },
      "outputs": [
        {
          "name": "stdout",
          "output_type": "stream",
          "text": [
            "Class A, method 1\n",
            "Class B, method 3\n"
          ]
        }
      ],
      "source": [
        "#testing the concept\n",
        "\n",
        "b = B()\n",
        "\n",
        "b.m1()\n",
        "b.m3()"
      ]
    },
    {
      "cell_type": "markdown",
      "id": "24470adf",
      "metadata": {
        "id": "24470adf"
      },
      "source": [
        "### 2. Multilevel inheritance\n",
        "\n",
        "A single parent, a child and a grandchild (as you know, from the child)\n",
        "\n",
        "Parent -> Child1 -> grandchild"
      ]
    },
    {
      "cell_type": "code",
      "execution_count": null,
      "id": "3060f5cd",
      "metadata": {
        "id": "3060f5cd"
      },
      "outputs": [],
      "source": [
        "## What the code looks like without inheritance\n",
        "\n",
        "class A:\n",
        "    def m1():\n",
        "        pass\n",
        "    def m2():\n",
        "        pass\n",
        "\n",
        "class B:\n",
        "    def m1():\n",
        "        pass\n",
        "    def m2():\n",
        "        pass\n",
        "    def m3():\n",
        "        pass\n",
        "    def m4():\n",
        "        pass\n",
        "\n",
        "class C:\n",
        "    def m1():\n",
        "        pass\n",
        "    def m2():\n",
        "        pass\n",
        "    def m3():\n",
        "        pass\n",
        "    def m4():\n",
        "        pass\n",
        "    def m5():\n",
        "        pass\n",
        "    def m6():\n",
        "        pass\n",
        "\n"
      ]
    },
    {
      "cell_type": "code",
      "execution_count": null,
      "id": "b7c223d0",
      "metadata": {
        "id": "b7c223d0"
      },
      "outputs": [],
      "source": [
        "#How multilevel inheritance solves this problem\n",
        "\n",
        "#parent\n",
        "class A:\n",
        "    def m1(self):\n",
        "        print('Class A, method 1')\n",
        "    def m2(self):\n",
        "        print('Class A, method 2')\n",
        "\n",
        "#child\n",
        "class B(A):\n",
        "    def m3(self):\n",
        "        print('Class B, method 3')\n",
        "    def m4(self):\n",
        "        print('Class B, method 4')\n",
        "\n",
        "#grandchild\n",
        "class C(B):\n",
        "    def m5(self):\n",
        "        print('Class C, method 5')\n",
        "    def m6(self):\n",
        "        print('Class C, method 6')"
      ]
    },
    {
      "cell_type": "code",
      "execution_count": null,
      "id": "9a9a2021",
      "metadata": {
        "id": "9a9a2021",
        "outputId": "1bc52dfb-ae9b-4d26-8f9e-75d969f01f66"
      },
      "outputs": [
        {
          "name": "stdout",
          "output_type": "stream",
          "text": [
            "Class A, method 2\n",
            "None\n",
            "Class A, method 1\n",
            "None\n"
          ]
        }
      ],
      "source": [
        "#testing the concept\n",
        "b = B()\n",
        "c = C()\n",
        "\n",
        "print(b.m2())\n",
        "print(c.m1())\n",
        "\n",
        "#rmember why we see 'None' in the output right? Yes. It's because we used print in the function call instead of return"
      ]
    },
    {
      "cell_type": "markdown",
      "id": "eef9d817",
      "metadata": {
        "id": "eef9d817"
      },
      "source": [
        "### 3. Multiple inheritance\n",
        "\n",
        "One child inheriting from two parents"
      ]
    },
    {
      "cell_type": "code",
      "execution_count": null,
      "id": "8d849345",
      "metadata": {
        "id": "8d849345"
      },
      "outputs": [],
      "source": [
        "#parent\n",
        "class A:\n",
        "    def m1(self):\n",
        "        print('Class A, method 1')\n",
        "    def m2(self):\n",
        "        print('Class A, method 2')\n",
        "\n",
        "#parent\n",
        "class B:\n",
        "    def m3(self):\n",
        "        print('Class B, method 3')\n",
        "    def m4(self):\n",
        "        print('Class B, method 4')\n",
        "\n",
        "#child\n",
        "class C(A,B):\n",
        "    def m5(self):\n",
        "        print('Class C, method 5')\n",
        "    def m6(self):\n",
        "        print('Class C, method 6')"
      ]
    },
    {
      "cell_type": "markdown",
      "id": "5f4bb356",
      "metadata": {
        "id": "5f4bb356"
      },
      "source": [
        "### 4. Hirerachical inheritance\n",
        "\n",
        "Two children inheriting from a single parent"
      ]
    },
    {
      "cell_type": "code",
      "execution_count": null,
      "id": "2af9f0fc",
      "metadata": {
        "id": "2af9f0fc"
      },
      "outputs": [],
      "source": [
        "#keep in mind the last code without inheritance we wrote\n",
        "\n",
        "#parent\n",
        "class A:\n",
        "    def m1(self):\n",
        "        print('Class A, method 1')\n",
        "    def m2(self):\n",
        "        print('Class A, method 2')\n",
        "\n",
        "#first child\n",
        "class B(A):\n",
        "    def m3(self):\n",
        "        print('Class B, method 3')\n",
        "    def m4(self):\n",
        "        print('Class B, method 4')\n",
        "\n",
        "#second child\n",
        "class C(A):\n",
        "    def m5(self):\n",
        "        print('Class C, method 5')\n",
        "    def m6(self):\n",
        "        print('Class C, method 6')"
      ]
    },
    {
      "cell_type": "code",
      "execution_count": null,
      "id": "409c6d6e",
      "metadata": {
        "id": "409c6d6e",
        "outputId": "d8aba092-df7f-4c49-a35d-8aa4b0474cb4"
      },
      "outputs": [
        {
          "name": "stdout",
          "output_type": "stream",
          "text": [
            "Class A, method 2\n"
          ]
        }
      ],
      "source": [
        "c = C()\n",
        "\n",
        "c.m2()"
      ]
    },
    {
      "cell_type": "code",
      "execution_count": null,
      "id": "929b2482",
      "metadata": {
        "id": "929b2482",
        "outputId": "66af030a-8808-4cb7-d0c4-f4841a89358d"
      },
      "outputs": [
        {
          "name": "stdout",
          "output_type": "stream",
          "text": [
            "Class A, method 2\n"
          ]
        }
      ],
      "source": [
        "c.m2()"
      ]
    },
    {
      "cell_type": "markdown",
      "id": "998f58ea",
      "metadata": {
        "id": "998f58ea"
      },
      "source": [
        "### 5. Hybrid inheritance\n",
        "\n",
        "A combination of all the above types of inheritance.\n"
      ]
    },
    {
      "cell_type": "code",
      "execution_count": null,
      "id": "8d867f70",
      "metadata": {
        "id": "8d867f70"
      },
      "outputs": [],
      "source": [
        "#parent\n",
        "class A:\n",
        "    pass\n",
        "\n",
        "#first child of A\n",
        "class B(A):\n",
        "    pass\n",
        "\n",
        "#second child of A\n",
        "class C(A):\n",
        "    pass\n",
        "\n",
        "#child benefiting from other children\n",
        "class D(B, C):\n",
        "    pass\n",
        "\n",
        "\n",
        "#Class B and C share the same parent - hirerachical\n",
        "#Class D has a direct relationship with the parent and the second child"
      ]
    },
    {
      "cell_type": "markdown",
      "id": "5d03aaef",
      "metadata": {
        "id": "5d03aaef"
      },
      "source": [
        "### Using super() to access the constructor and methods of the parent class\n"
      ]
    },
    {
      "cell_type": "code",
      "execution_count": null,
      "id": "72bce316",
      "metadata": {
        "id": "72bce316"
      },
      "outputs": [],
      "source": [
        "class A:\n",
        "    def m1(self):\n",
        "        print('Class A, method 1')\n",
        "    def m2(self):\n",
        "        print('Class A, method 2')\n",
        "\n",
        "class B:\n",
        "    def m3(self):\n",
        "        super().m1()\n",
        "        print('Class B, method 3')\n",
        "    def m4(self):\n",
        "        super().m2()\n",
        "        print('Class B, method 4')"
      ]
    },
    {
      "cell_type": "markdown",
      "id": "a03aabac",
      "metadata": {
        "id": "a03aabac"
      },
      "source": [
        "## Polymorphism\n",
        "\n",
        "Means that one thing can take multiple forms. Thinking about this literally, we human beings are polymorphic, we have different forms, as the situation changes, we change ourselves, the way we behave around friends, is not the same way we behave in the office.\n",
        "\n",
        "In OOP therefore, objects can have multiple forms. There are 4 kinds of polymorphism:\n",
        "\n",
        "- Duck typing\n",
        "- Operator overloading\n",
        "- Method overloading\n",
        "- Method overriding"
      ]
    },
    {
      "cell_type": "markdown",
      "id": "4d80f286",
      "metadata": {
        "id": "4d80f286"
      },
      "source": [
        "### 1. Duck typing\n",
        "\n",
        "- Here we have a function that takes an object and calls a method on it without caring about the object's type\n",
        "- Duck typing means that as long as the object has the required method, it can be used without caring about the object's type\n",
        "- Example: a duck and a dog can both have the quack() method and therefore can be treated the same in the code without checking for their specifc types"
      ]
    },
    {
      "cell_type": "code",
      "execution_count": null,
      "id": "ded2d477",
      "metadata": {
        "id": "ded2d477"
      },
      "outputs": [],
      "source": [
        "class Duck:\n",
        "    def quack(self):\n",
        "        return('Quack')\n",
        "\n",
        "class Dog:\n",
        "    def quack(self):\n",
        "        return('Woof')\n",
        "\n",
        "def make_sound(animal):\n",
        "    animal.quack()"
      ]
    },
    {
      "cell_type": "code",
      "execution_count": null,
      "id": "d6884f60",
      "metadata": {
        "id": "d6884f60",
        "outputId": "fd3d1cd9-d1ba-455b-d02d-24219691e4fa"
      },
      "outputs": [
        {
          "name": "stdout",
          "output_type": "stream",
          "text": [
            "Woof\n",
            "Quack\n"
          ]
        }
      ],
      "source": [
        "#creating the objects\n",
        "\n",
        "duck = Duck()\n",
        "dog = Dog()\n",
        "\n",
        "print(dog.quack())\n",
        "print(duck.quack())"
      ]
    },
    {
      "cell_type": "markdown",
      "id": "d0c4ac4e",
      "metadata": {
        "id": "d0c4ac4e"
      },
      "source": []
    },
    {
      "cell_type": "code",
      "execution_count": null,
      "id": "b7872915",
      "metadata": {
        "id": "b7872915",
        "outputId": "2a1c149f-fdd1-4dec-ee23-4cd889a40f10"
      },
      "outputs": [
        {
          "name": "stdout",
          "output_type": "stream",
          "text": [
            "16\n",
            "4\n"
          ]
        }
      ],
      "source": [
        "#python functions displaying polymorphism\n",
        "\n",
        "print(len('Data engineering'))\n",
        "print(len([123, 456, 789, 102]))"
      ]
    },
    {
      "cell_type": "markdown",
      "id": "3bf14457",
      "metadata": {
        "id": "3bf14457"
      },
      "source": [
        "The len function exhibits polymorphism because it can be used with different types of objects (strings and lists in this case) that provide the required len method.\n",
        "\n",
        "This code demonstrates duck typing because it doesn't explicity check the object's class(it doesn't care)."
      ]
    },
    {
      "cell_type": "markdown",
      "id": "e298a48f",
      "metadata": {
        "id": "e298a48f"
      },
      "source": [
        "### 2. Operator overloading\n",
        "\n",
        "- Arithmetic operations like +,-, *,/ are actions I can perform on objects\n",
        "- Operator loading therefore lets me  define what those actions mean for instances of my own classes\n",
        "- This is done using '__add__'"
      ]
    },
    {
      "cell_type": "code",
      "execution_count": null,
      "id": "a20a89e5",
      "metadata": {
        "id": "a20a89e5"
      },
      "outputs": [],
      "source": [
        "class Point:\n",
        "    def __init__(self, x, y):\n",
        "        self.x = x\n",
        "        self.y = y\n",
        "\n",
        "\n",
        "    def __add__(self,other):\n",
        "        return Point(self.x+other.x, self.y+other.y)"
      ]
    },
    {
      "cell_type": "code",
      "execution_count": null,
      "id": "f751b653",
      "metadata": {
        "id": "f751b653",
        "outputId": "e49f9d55-867d-43ec-e2d0-5a1a657e9c3f"
      },
      "outputs": [
        {
          "name": "stdout",
          "output_type": "stream",
          "text": [
            "<__main__.Point object at 0x00000127606CBE80>\n"
          ]
        }
      ],
      "source": [
        "#creating two objects with the same blueprint\n",
        "\n",
        "p1 = Point(2,3)\n",
        "p2 = Point(3,4)\n",
        "\n",
        "result = p1 + p2\n",
        "print(result)"
      ]
    },
    {
      "cell_type": "code",
      "execution_count": null,
      "id": "e2fcaca9",
      "metadata": {
        "id": "e2fcaca9",
        "outputId": "abfdefe2-5319-4611-d421-bf2916b13be2"
      },
      "outputs": [
        {
          "name": "stdout",
          "output_type": "stream",
          "text": [
            "5 7\n"
          ]
        }
      ],
      "source": [
        "print(result.x, result.y)"
      ]
    },
    {
      "cell_type": "markdown",
      "id": "7074191d",
      "metadata": {
        "id": "7074191d"
      },
      "source": [
        "### 3. Method overloading\n",
        "\n",
        "- Here we have a method with the capacity to house or take in different number of parameters - a very good example here is our round() method\n",
        "- Method overloading allows me to define multiple versions of a method with different parameter lists\n",
        "- When you call the method, the appropriate version is choosen based on the arguments you provide"
      ]
    },
    {
      "cell_type": "code",
      "execution_count": null,
      "id": "e8204eb4",
      "metadata": {
        "id": "e8204eb4",
        "outputId": "1d4167f6-358d-493c-99ee-cd1d86b792f6"
      },
      "outputs": [
        {
          "name": "stdout",
          "output_type": "stream",
          "text": [
            "46\n",
            "45.981\n"
          ]
        }
      ],
      "source": [
        "#see what I mean\n",
        "\n",
        "#first form - pass only the number you wish to round up - default state says it rounds the number to a whole number\n",
        "check1 = round(45.9800001)\n",
        "print(check1)\n",
        "\n",
        "#second form - pass the number and the number of decimal places\n",
        "check2 = round(45.98076512, 3)\n",
        "print(check2)"
      ]
    },
    {
      "cell_type": "code",
      "execution_count": null,
      "id": "a3a12300",
      "metadata": {
        "id": "a3a12300"
      },
      "outputs": [],
      "source": [
        "#let me create something similar\n",
        "\n",
        "class Calculator:\n",
        "    def calculate(self, a, b=None):\n",
        "        if b is None:\n",
        "            return a*2\n",
        "        else:\n",
        "            return a*b\n",
        "my_calc = Calculator()"
      ]
    },
    {
      "cell_type": "code",
      "execution_count": null,
      "id": "c4474626",
      "metadata": {
        "id": "c4474626",
        "outputId": "f7daff23-190a-47fe-aa21-ac1a93ee033b"
      },
      "outputs": [
        {
          "name": "stdout",
          "output_type": "stream",
          "text": [
            "10\n",
            "50\n"
          ]
        }
      ],
      "source": [
        "print(my_calc.calculate(5))\n",
        "print(my_calc.calculate(5,10))"
      ]
    },
    {
      "cell_type": "markdown",
      "id": "f10cd9b2",
      "metadata": {
        "id": "f10cd9b2"
      },
      "source": [
        "### 4. Method overriding\n",
        "\n",
        "- First I have a parent class with a method\n",
        "- When I create a subclas, I can now define the same method with the **same name**\n",
        "- Method overriding means that I am replacing the parent's method with a new implementation in the subclass\n",
        "- This allows me to customize the behaviour of the method for the subclass without changing the parent's behaviour"
      ]
    },
    {
      "cell_type": "code",
      "execution_count": null,
      "id": "474d6a16",
      "metadata": {
        "id": "474d6a16"
      },
      "outputs": [],
      "source": [
        "class A:\n",
        "    def m1(self):\n",
        "        print('Class A, method 1')\n",
        "    def m2(self):\n",
        "        print('Class A, method 2')\n",
        "\n",
        "class B(A):\n",
        "    def m1(self):\n",
        "        super().m1()\n",
        "        print('I changed the output!')\n"
      ]
    },
    {
      "cell_type": "code",
      "execution_count": null,
      "id": "d28bad50",
      "metadata": {
        "id": "d28bad50",
        "outputId": "a53dc64c-4a1d-43fe-c530-793e9f29bea2"
      },
      "outputs": [
        {
          "name": "stdout",
          "output_type": "stream",
          "text": [
            "Class A, method 1\n",
            "I changed the output!\n"
          ]
        }
      ],
      "source": [
        "b = B()\n",
        "\n",
        "#method overriding in action\n",
        "b.m1()"
      ]
    },
    {
      "cell_type": "markdown",
      "id": "43a4b600",
      "metadata": {
        "id": "43a4b600"
      },
      "source": [
        "## Abstraction\n",
        "\n",
        "This means hiding. It simplifies complex functionalities by focussing on what an object does rather than how it does it. It hides the inner workings of an object and exposes only the essential features you need to interact with it.\n",
        "\n",
        "For example, the light switch is an abstracted object of all the internal workings behind it. We only know that when we flip the switch it either comes on or not."
      ]
    },
    {
      "cell_type": "markdown",
      "id": "d390fab2",
      "metadata": {
        "id": "d390fab2"
      },
      "source": [
        "## Encapsulation\n",
        "\n",
        "This hides data from external world. It protects the data within the class and exposes methods to the world."
      ]
    },
    {
      "cell_type": "markdown",
      "id": "3947a275",
      "metadata": {
        "id": "3947a275"
      },
      "source": [
        "### 1. Private methods"
      ]
    },
    {
      "cell_type": "code",
      "execution_count": null,
      "id": "1e26ffbe",
      "metadata": {
        "id": "1e26ffbe"
      },
      "outputs": [],
      "source": [
        "class Car:\n",
        "    def __init__(self):\n",
        "        self.__updateSoftware()\n",
        "\n",
        "    def drive(self):\n",
        "        print('Driving')\n",
        "\n",
        "    def __updateSoftware(self):\n",
        "        print('Updating software....')\n"
      ]
    },
    {
      "cell_type": "code",
      "execution_count": null,
      "id": "7dff5afd",
      "metadata": {
        "id": "7dff5afd",
        "outputId": "fa08f675-216e-4c22-e8ba-b235065421a3"
      },
      "outputs": [
        {
          "name": "stdout",
          "output_type": "stream",
          "text": [
            "Updating software\n",
            "Driving\n"
          ]
        }
      ],
      "source": [
        "myCar = Car()\n",
        "myCar.drive()"
      ]
    },
    {
      "cell_type": "markdown",
      "id": "eec4c992",
      "metadata": {
        "id": "eec4c992"
      },
      "source": [
        "### 2. Private variables"
      ]
    },
    {
      "cell_type": "code",
      "execution_count": null,
      "id": "bf54805d",
      "metadata": {
        "id": "bf54805d"
      },
      "outputs": [],
      "source": [
        "class Car:\n",
        "    __maxSpeed = 0\n",
        "    __name = ''\n",
        "\n",
        "    def __init__(self):\n",
        "        self.__maxSpeed = 200\n",
        "        self.__name = 'Super car'\n",
        "\n",
        "    def drive(self):\n",
        "        print('Max speed is: ', self.__maxSpeed)"
      ]
    },
    {
      "cell_type": "code",
      "execution_count": null,
      "id": "574e1495",
      "metadata": {
        "id": "574e1495",
        "outputId": "d96019af-b1c4-454a-adb8-da69b840fba3"
      },
      "outputs": [
        {
          "name": "stdout",
          "output_type": "stream",
          "text": [
            "Max speed is:  200\n"
          ]
        }
      ],
      "source": [
        "myCar = Car()\n",
        "myCar.drive()"
      ]
    },
    {
      "cell_type": "markdown",
      "id": "9d3025e4",
      "metadata": {
        "id": "9d3025e4"
      },
      "source": [
        "### Using setter and getter"
      ]
    },
    {
      "cell_type": "code",
      "execution_count": null,
      "id": "542dc74e",
      "metadata": {
        "id": "542dc74e"
      },
      "outputs": [],
      "source": [
        "class Student:\n",
        "\n",
        "    __college = 'LMN'\n",
        "    def __init__(self, name, rno, marks):\n",
        "        self.__name = name\n",
        "        self.__rno = rno\n",
        "        self.__marks = marks\n",
        "\n",
        "    def display(self):\n",
        "        print('Name: {}, Roll_number: {}, Marks: {}'.format(self.name, self.rno, self.marks))\n",
        "        print('College:', self.__college)\n",
        "\n",
        "    def setCollege(self, cname):\n",
        "        self.__college = cname\n",
        "\n",
        "    def getName(self):\n",
        "        return self.__name"
      ]
    },
    {
      "cell_type": "code",
      "execution_count": null,
      "id": "0b65fea0",
      "metadata": {
        "id": "0b65fea0",
        "outputId": "204ae579-6bc6-4a38-8d43-4c15951a83d6"
      },
      "outputs": [
        {
          "name": "stdout",
          "output_type": "stream",
          "text": [
            "Help on class Student in module __main__:\n",
            "\n",
            "class Student(builtins.object)\n",
            " |  Student(name, rno, marks)\n",
            " |  \n",
            " |  Methods defined here:\n",
            " |  \n",
            " |  __init__(self, name, rno, marks)\n",
            " |      Initialize self.  See help(type(self)) for accurate signature.\n",
            " |  \n",
            " |  display(self)\n",
            " |  \n",
            " |  getName(self)\n",
            " |  \n",
            " |  setCollege(self, cname)\n",
            " |  \n",
            " |  ----------------------------------------------------------------------\n",
            " |  Data descriptors defined here:\n",
            " |  \n",
            " |  __dict__\n",
            " |      dictionary for instance variables (if defined)\n",
            " |  \n",
            " |  __weakref__\n",
            " |      list of weak references to the object (if defined)\n",
            "\n"
          ]
        }
      ],
      "source": [
        "help(Student)"
      ]
    },
    {
      "cell_type": "markdown",
      "id": "dfb08089",
      "metadata": {
        "id": "dfb08089"
      },
      "source": [
        "Notice in the above that the __college data (it is a private variable remember) is not included in the docs when we called help(Student)."
      ]
    },
    {
      "cell_type": "code",
      "execution_count": null,
      "id": "b105319c",
      "metadata": {
        "id": "b105319c"
      },
      "outputs": [],
      "source": [
        "class Student2:\n",
        "\n",
        "    __college = 'LMN'\n",
        "\n",
        "    #I added a static variable here\n",
        "    college2 = 'LMER'\n",
        "\n",
        "    def __init__(self, name, rno, marks):\n",
        "        self.__name = name\n",
        "        self.__rno = rno\n",
        "        self.__marks = marks\n",
        "\n",
        "    def display(self):\n",
        "        print('Name: {}, Roll_number: {}, Marks: {}'.format(self.name, self.rno, self.marks))\n",
        "        print('College:', self.__college)\n",
        "\n",
        "    def setCollege(self, cname):\n",
        "        self.__college = cname\n",
        "\n",
        "    def getName(self):\n",
        "        return self.__name"
      ]
    },
    {
      "cell_type": "code",
      "execution_count": null,
      "id": "20d06fb5",
      "metadata": {
        "id": "20d06fb5",
        "outputId": "44deab88-b39a-4563-bb8b-51b2a8679cd8"
      },
      "outputs": [
        {
          "name": "stdout",
          "output_type": "stream",
          "text": [
            "Help on class Student2 in module __main__:\n",
            "\n",
            "class Student2(builtins.object)\n",
            " |  Student2(name, rno, marks)\n",
            " |  \n",
            " |  Methods defined here:\n",
            " |  \n",
            " |  __init__(self, name, rno, marks)\n",
            " |      Initialize self.  See help(type(self)) for accurate signature.\n",
            " |  \n",
            " |  display(self)\n",
            " |  \n",
            " |  getName(self)\n",
            " |  \n",
            " |  setCollege(self, cname)\n",
            " |  \n",
            " |  ----------------------------------------------------------------------\n",
            " |  Data descriptors defined here:\n",
            " |  \n",
            " |  __dict__\n",
            " |      dictionary for instance variables (if defined)\n",
            " |  \n",
            " |  __weakref__\n",
            " |      list of weak references to the object (if defined)\n",
            " |  \n",
            " |  ----------------------------------------------------------------------\n",
            " |  Data and other attributes defined here:\n",
            " |  \n",
            " |  college2 = 'LMER'\n",
            "\n"
          ]
        }
      ],
      "source": [
        "help(Student2)"
      ]
    },
    {
      "cell_type": "markdown",
      "id": "fc86257b",
      "metadata": {
        "id": "fc86257b"
      },
      "source": [
        "Here, the data is shown here"
      ]
    },
    {
      "cell_type": "markdown",
      "id": "86130401",
      "metadata": {
        "id": "86130401"
      },
      "source": [
        "## Create a class Animal as a base class and define method animal_attribute. Create another class Tiger which is inheriting Animal and access the base class method."
      ]
    },
    {
      "cell_type": "code",
      "execution_count": null,
      "id": "2d958c16",
      "metadata": {
        "id": "2d958c16"
      },
      "outputs": [],
      "source": [
        "class Animal:\n",
        "    def animal_attribute(self, sound, color):\n",
        "        self.sound = sound\n",
        "        self.color = color\n",
        "        return('My pet {} and is {} in color'.format(self.sound, self.color))\n",
        "\n",
        "class Tiger(Animal):\n",
        "    def new_func(self):\n",
        "        print('New function')"
      ]
    },
    {
      "cell_type": "code",
      "execution_count": null,
      "id": "ade263ce",
      "metadata": {
        "id": "ade263ce",
        "outputId": "04efd6e8-6e0d-4a51-d3b4-fe401f965673"
      },
      "outputs": [
        {
          "name": "stdout",
          "output_type": "stream",
          "text": [
            "My pet roars and is black in color\n"
          ]
        }
      ],
      "source": [
        "pet = Tiger()\n",
        "\n",
        "print(pet.animal_attribute('roars', 'black'))"
      ]
    },
    {
      "cell_type": "markdown",
      "id": "7cbfa8ad",
      "metadata": {
        "id": "7cbfa8ad"
      },
      "source": [
        "## Create a class Cop. Initialize its name, age , work experience. Define methods to display and update the details. Create another class Mission which extends the class Cop. Define method add_mission _details. Select an object of Cop and access methods of base class to get information for a particular cop and make it available for mission."
      ]
    },
    {
      "cell_type": "code",
      "execution_count": null,
      "id": "149445e1",
      "metadata": {
        "id": "149445e1"
      },
      "outputs": [],
      "source": [
        "class Cop:\n",
        "\n",
        "    def __init__(self, name, age, work, experience):\n",
        "        self.name = name\n",
        "        self.age = age\n",
        "        self.work = work\n",
        "        self.experience = experience\n",
        "\n",
        "    def display(self):\n",
        "        return(self.name, self.age, self.work, self.experience)\n",
        "\n",
        "    def update_details(self, name, age, work, experience):\n",
        "        self.name = name\n",
        "        self.age = age\n",
        "        self.work = work\n",
        "        self.experience = experience\n",
        "        return 'Update completed!'\n",
        "\n",
        "class Mission(Cop):\n",
        "    def add_mission_details(self, country, LGA):\n",
        "        self.country = country\n",
        "        self.LGA = LGA\n",
        "        print('Name: {}, Age: {}, Work: {}, Experience: {}'.format(self.name, self.age, self.work, self.experience))\n",
        "        return('Posted to {} in {} LGA'.format(self.country, self.LGA))\n",
        ""
      ]
    },
    {
      "cell_type": "code",
      "execution_count": null,
      "id": "d1d71293",
      "metadata": {
        "id": "d1d71293"
      },
      "outputs": [],
      "source": [
        "police = Mission('Ken', 50, 'Director General', 'High')"
      ]
    },
    {
      "cell_type": "code",
      "execution_count": null,
      "id": "18b94d26",
      "metadata": {
        "id": "18b94d26",
        "outputId": "b5b15b9d-dc5b-4abe-e98f-31f82d924040"
      },
      "outputs": [
        {
          "name": "stdout",
          "output_type": "stream",
          "text": [
            "Name: Ken, Age: 50, Work: Director General, Experience: High\n",
            "Posted to Nigeria in Chikun LGA\n"
          ]
        }
      ],
      "source": [
        "print(police.add_mission_details('Nigeria', 'Chikun'))"
      ]
    },
    {
      "cell_type": "code",
      "execution_count": null,
      "id": "a02fed45",
      "metadata": {
        "id": "a02fed45"
      },
      "outputs": [],
      "source": []
    }
  ],
  "metadata": {
    "kernelspec": {
      "display_name": "Python 3 (ipykernel)",
      "language": "python",
      "name": "python3"
    },
    "language_info": {
      "codemirror_mode": {
        "name": "ipython",
        "version": 3
      },
      "file_extension": ".py",
      "mimetype": "text/x-python",
      "name": "python",
      "nbconvert_exporter": "python",
      "pygments_lexer": "ipython3",
      "version": "3.12.7"
    },
    "colab": {
      "provenance": [],
      "include_colab_link": true
    }
  },
  "nbformat": 4,
  "nbformat_minor": 5
}