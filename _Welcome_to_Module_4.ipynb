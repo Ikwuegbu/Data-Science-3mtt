{
  "cells": [
    {
      "cell_type": "markdown",
      "metadata": {
        "id": "view-in-github",
        "colab_type": "text"
      },
      "source": [
        "<a href=\"https://colab.research.google.com/github/Ikwuegbu/Data-Science-3mtt/blob/main/_Welcome_to_Module_4.ipynb\" target=\"_parent\"><img src=\"https://colab.research.google.com/assets/colab-badge.svg\" alt=\"Open In Colab\"/></a>"
      ]
    },
    {
      "cell_type": "markdown",
      "id": "6b402e61-e716-4e25-b6f4-004d03b7dd12",
      "metadata": {
        "id": "6b402e61-e716-4e25-b6f4-004d03b7dd12"
      },
      "source": [
        "## 🖥️ Module 4\n",
        "\n",
        "In the last module you were introduced for some fundamentals in statsitsics and probability:\n",
        "\n",
        "- Descriptive statistics\n",
        "- Measures of association\n",
        "- Probability concepts: conditional probability, independence, Bayes’ Theorem, and the Law of Total Probability\n",
        "\n",
        "#### ❓ Any questions based on what we've discussed so far?\n",
        "\n",
        "\n",
        "### Welcome to module 4 🤗\n",
        "\n",
        "After this module, you will have the skills to:\n",
        "- Conduct univariate and bivariate analyses using numerical and graphical methods to gain insights into data distributions and relationships between variables.\n",
        "- Identify and classify missing values based on their types to assess data quality.\n",
        "- Apply appropriate techniques for handling missing values based on the context, business problem and type of missing data\n",
        "- Detect and manage outliers to ensure data consistency and improve the reliability of subsequent analysis and modeling."
      ]
    }
  ],
  "metadata": {
    "kernelspec": {
      "display_name": "Python 3 (ipykernel)",
      "language": "python",
      "name": "python3"
    },
    "language_info": {
      "codemirror_mode": {
        "name": "ipython",
        "version": 3
      },
      "file_extension": ".py",
      "mimetype": "text/x-python",
      "name": "python",
      "nbconvert_exporter": "python",
      "pygments_lexer": "ipython3",
      "version": "3.12.7"
    },
    "colab": {
      "provenance": [],
      "include_colab_link": true
    }
  },
  "nbformat": 4,
  "nbformat_minor": 5
}