{
  "cells": [
    {
      "cell_type": "markdown",
      "metadata": {
        "id": "view-in-github",
        "colab_type": "text"
      },
      "source": [
        "<a href=\"https://colab.research.google.com/github/Ikwuegbu/Data-Science-3mtt/blob/main/12_Object_Oriented_Programming_1.ipynb\" target=\"_parent\"><img src=\"https://colab.research.google.com/assets/colab-badge.svg\" alt=\"Open In Colab\"/></a>"
      ]
    },
    {
      "cell_type": "markdown",
      "id": "ee286e7f",
      "metadata": {
        "id": "ee286e7f"
      },
      "source": [
        "# M. Object Oriented Programming"
      ]
    },
    {
      "cell_type": "markdown",
      "id": "c0ebf6a9",
      "metadata": {
        "id": "c0ebf6a9"
      },
      "source": [
        "### What is Object-Oriented Programming (OOP)?\n",
        "\n",
        "Object-Oriented Programming (OOP) is a way of writing programs by creating things called objects. These objects can hold data and also perform actions. Each object has two main parts:\n",
        "\n",
        "- Attributes: These are the features of the object (like the color of a car or the model of a phone).\n",
        "- Methods: These are the actions the object can perform (like a car driving or a phone making a call).\n",
        "\n",
        "### Why Use OOP?\n",
        "OOP makes it easier to organize and manage larger programs by:\n",
        "- Keeping related data and actions together.\n",
        "- Reusing code without repeating yourself.\n",
        "- Making programs more structured and easier to understand.\n",
        "\n",
        "\n",
        "OOP mirrors the way the world works.\n",
        "\n",
        "Code is organized into self contained parts/objects - like the objects around you now\n",
        "\n",
        "By structuring code as objects we can change one part of it and it won't affect the others.\n",
        "\n",
        "A class is a definition or blueprint from which objects are created. E.g The blueprint of a car tells us what the car has or is made of - body, wheels, engine,  and what a car does (functionalities) - drive(), brake(), turn(). Now we can take this blueprint to build a car - which is now known as an object."
      ]
    },
    {
      "cell_type": "markdown",
      "id": "a3c5a09a",
      "metadata": {
        "id": "a3c5a09a"
      },
      "source": [
        "## 1. Class - blueprint of an object\n",
        "\n",
        "class ClassName:\n",
        "\n",
        "       - Variables(properties - to store data)      \n",
        "       - Constructor - a special method      \n",
        "       - Methods (behaviours)- (a way to update the properties - same thing as a function)\n",
        "\n"
      ]
    },
    {
      "cell_type": "code",
      "execution_count": null,
      "id": "de5fd785",
      "metadata": {
        "id": "de5fd785",
        "outputId": "cf0fa03b-2e01-4fb1-f857-eaeb8d3e9243"
      },
      "outputs": [
        {
          "name": "stdout",
          "output_type": "stream",
          "text": [
            "<class '__main__.MyFirstClass'>\n",
            "This is my first class.\n",
            "Help on class MyFirstClass in module __main__:\n",
            "\n",
            "class MyFirstClass(builtins.object)\n",
            " |  This is my first class.\n",
            " |  \n",
            " |  Data descriptors defined here:\n",
            " |  \n",
            " |  __dict__\n",
            " |      dictionary for instance variables (if defined)\n",
            " |  \n",
            " |  __weakref__\n",
            " |      list of weak references to the object (if defined)\n",
            "\n"
          ]
        }
      ],
      "source": [
        "class MyFirstClass:\n",
        "    '''This is my first class.'''\n",
        "    pass\n",
        "\n",
        "print(MyFirstClass)\n",
        "print(MyFirstClass.__doc__)\n",
        "help(MyFirstClass)"
      ]
    },
    {
      "cell_type": "markdown",
      "id": "ff0f680b",
      "metadata": {
        "id": "ff0f680b"
      },
      "source": [
        "### Object creation AKA instantiation - i.e creating an instance of the object"
      ]
    },
    {
      "cell_type": "code",
      "execution_count": null,
      "id": "f9434552",
      "metadata": {
        "id": "f9434552",
        "outputId": "3a795886-1853-4544-ba1b-55352ae81bd6"
      },
      "outputs": [
        {
          "data": {
            "text/plain": [
              "<__main__.MyFirstClass at 0x1ab0ae336d0>"
            ]
          },
          "execution_count": 5,
          "metadata": {},
          "output_type": "execute_result"
        }
      ],
      "source": [
        "# synthax -> object_name = ClassName()\n",
        "\n",
        "first_obj = MyFirstClass()\n",
        "\n",
        "first_obj"
      ]
    },
    {
      "cell_type": "markdown",
      "id": "ddb0150b",
      "metadata": {
        "id": "ddb0150b"
      },
      "source": [
        "### Variables and methods"
      ]
    },
    {
      "cell_type": "code",
      "execution_count": null,
      "id": "fb4aa2ce",
      "metadata": {
        "id": "fb4aa2ce"
      },
      "outputs": [],
      "source": [
        "class HelloWorld:\n",
        "    '''This is my Hello World class'''\n",
        "\n",
        "    class_variable = 'Variable'   #creating a variable\n",
        "\n",
        "    def display(self):   #creating a method called display()\n",
        "        return('Method called')"
      ]
    },
    {
      "cell_type": "code",
      "execution_count": null,
      "id": "9747cc6d",
      "metadata": {
        "id": "9747cc6d",
        "outputId": "7ef431ad-eda0-42d2-f557-b0cac3aabbd7"
      },
      "outputs": [
        {
          "name": "stdout",
          "output_type": "stream",
          "text": [
            "Variable\n"
          ]
        },
        {
          "data": {
            "text/plain": [
              "'Method called'"
            ]
          },
          "execution_count": 2,
          "metadata": {},
          "output_type": "execute_result"
        }
      ],
      "source": [
        "# Accessing the variables and methods of a class\n",
        "\n",
        "#first create an instance of the object with the class\n",
        "second_object = HelloWorld()\n",
        "\n",
        "#printing the variable\n",
        "print(second_object.class_variable)\n",
        "\n",
        "#using the method\n",
        "\n",
        "second_object.display()"
      ]
    },
    {
      "cell_type": "markdown",
      "id": "3aa68f2e",
      "metadata": {
        "id": "3aa68f2e"
      },
      "source": [
        "### Constructors\n",
        "\n",
        "- A special method\n",
        "- It gets called automatically at object intialization/instantiation\n",
        "- It is used for intializing the variables (very important)\n",
        "- Returns None"
      ]
    },
    {
      "cell_type": "markdown",
      "id": "d2fb3ee9",
      "metadata": {
        "id": "d2fb3ee9"
      },
      "source": [
        "####  Constructor with single variable"
      ]
    },
    {
      "cell_type": "code",
      "execution_count": null,
      "id": "49728c10",
      "metadata": {
        "id": "49728c10",
        "outputId": "15613903-8f15-4233-b2e7-9ef4696ced14"
      },
      "outputs": [
        {
          "name": "stdout",
          "output_type": "stream",
          "text": [
            "Constructor called\n",
            "<__main__.HelloWorld object at 0x000001AB0AE33940>\n",
            "Hello World\n"
          ]
        }
      ],
      "source": [
        "class HelloWorld:\n",
        "    '''This is my Hello World class'''\n",
        "\n",
        "    #creating the constructor\n",
        "    def __init__(self):\n",
        "        print('Constructor called')\n",
        "\n",
        "    #creating the method\n",
        "    def display(self):\n",
        "        print('Hello World')\n",
        "\n",
        "\n",
        "hello_object = HelloWorld()\n",
        "print(hello_object)\n",
        "\n",
        "hello_object.display()"
      ]
    },
    {
      "cell_type": "markdown",
      "id": "02ec5c72",
      "metadata": {
        "id": "02ec5c72"
      },
      "source": [
        "#### Constructor with multiple parameters"
      ]
    },
    {
      "cell_type": "code",
      "execution_count": null,
      "id": "7be6db12",
      "metadata": {
        "id": "7be6db12",
        "outputId": "57c31f89-69dc-459f-8bba-310be6de2614"
      },
      "outputs": [
        {
          "name": "stdout",
          "output_type": "stream",
          "text": [
            "Name: Ann, Room_number: 1, Marks: 98\n"
          ]
        }
      ],
      "source": [
        "'''\n",
        "'self' is an instance variable that should be used in the constructor or method\n",
        "Remember the constructor is automatically called when you create an instance of an object\n",
        "'''\n",
        "\n",
        "class Student:\n",
        "    def __init__(self, name, rno, marks):  #a constructor with the instance variables\n",
        "        self.name = name\n",
        "        self.rno = rno\n",
        "        self.marks = marks\n",
        "\n",
        "    #creating a method\n",
        "    def display(self):\n",
        "        #print(self.name, self.rno, self.marks) OR\n",
        "\n",
        "        print('Name: {}, Room_number: {}, Marks: {}'.format(self.name, self.rno, self.marks))\n",
        "\n",
        "#testing\n",
        "student1 = Student('Ann', 1, 98)\n",
        "student1.display()\n",
        ""
      ]
    },
    {
      "cell_type": "code",
      "execution_count": null,
      "id": "f3e0608d",
      "metadata": {
        "id": "f3e0608d",
        "outputId": "e29846cf-a505-4ed5-faf4-f84774761be4"
      },
      "outputs": [
        {
          "name": "stdout",
          "output_type": "stream",
          "text": [
            "Help on class Student in module __main__:\n",
            "\n",
            "class Student(builtins.object)\n",
            " |  Student(name, rno, marks)\n",
            " |  \n",
            " |  Methods defined here:\n",
            " |  \n",
            " |  __init__(self, name, rno, marks)\n",
            " |      Initialize self.  See help(type(self)) for accurate signature.\n",
            " |  \n",
            " |  display(self)\n",
            " |      #creating a method\n",
            " |  \n",
            " |  ----------------------------------------------------------------------\n",
            " |  Data descriptors defined here:\n",
            " |  \n",
            " |  __dict__\n",
            " |      dictionary for instance variables (if defined)\n",
            " |  \n",
            " |  __weakref__\n",
            " |      list of weak references to the object (if defined)\n",
            "\n"
          ]
        }
      ],
      "source": [
        "help(Student)"
      ]
    },
    {
      "cell_type": "code",
      "execution_count": null,
      "id": "0b630e89",
      "metadata": {
        "id": "0b630e89",
        "outputId": "e25187fc-1948-4f6d-9b15-ad139160a1d0"
      },
      "outputs": [
        {
          "data": {
            "text/plain": [
              "{'name': 'Ann', 'rno': 1, 'marks': 98}"
            ]
          },
          "execution_count": 18,
          "metadata": {},
          "output_type": "execute_result"
        }
      ],
      "source": [
        "#using the __dict__ data descriptors\n",
        "\n",
        "student1.__dict__"
      ]
    },
    {
      "cell_type": "markdown",
      "id": "af55440c",
      "metadata": {
        "id": "af55440c"
      },
      "source": [
        "### Types of variables (AKA properties)\n",
        "\n",
        "A. Instance variable\n",
        "\n",
        "    - It is an object level variable\n",
        "    - The value of this variable varies from object to object, that is, they are only present for that one instance of an object\n",
        "\n",
        "B. Static variable AKA class variable\n",
        "\n",
        "    - It is a class level variable\n",
        "    - These variables are the same for all objects\n",
        "\n",
        "C. Local variable\n",
        "\n",
        "    - This is a method level variable - avaiable within a method"
      ]
    },
    {
      "cell_type": "markdown",
      "id": "e2230208",
      "metadata": {
        "id": "e2230208"
      },
      "source": [
        "**How to access the Instance variable**\n",
        "\n",
        "--> Inside a class: self.variable_name\n",
        "\n",
        "--> Outside a class: object_name.variable_name"
      ]
    },
    {
      "cell_type": "code",
      "execution_count": null,
      "id": "b69ec51a",
      "metadata": {
        "id": "b69ec51a",
        "outputId": "b9b610ea-76f5-4438-b3ce-2f7f43521d47"
      },
      "outputs": [
        {
          "name": "stdout",
          "output_type": "stream",
          "text": [
            "Ann 1 98\n"
          ]
        }
      ],
      "source": [
        "class Student:\n",
        "    def __init__(self, name, rno, marks):\n",
        "        self.name = name\n",
        "        self.rno = rno\n",
        "        self.marks = marks\n",
        "\n",
        "    #creating a method\n",
        "    def display(self):\n",
        "        print(self.name, self.rno, self.marks) #accessing inside a class\n",
        "\n",
        "#testing\n",
        "student1 = Student('Ann', 1, 98)  #accessing outside a class\n",
        "student1.display()"
      ]
    },
    {
      "cell_type": "markdown",
      "id": "b640ce8e",
      "metadata": {
        "id": "b640ce8e"
      },
      "source": [
        "**How to access the static variable**\n",
        "\n",
        "--> Inside a class: ClassName.variable_name OR self.variable_name\n",
        "\n",
        "--> Outside a class: ClassName.variable_name OR object_name.variable_name"
      ]
    },
    {
      "cell_type": "code",
      "execution_count": null,
      "id": "bfa68a25",
      "metadata": {
        "id": "bfa68a25",
        "outputId": "6efdc69c-9656-4413-ccdc-a2d36e32824c"
      },
      "outputs": [
        {
          "name": "stdout",
          "output_type": "stream",
          "text": [
            "Ann 2 98\n",
            "Stanford\n",
            "John 6 76\n",
            "Stanford\n"
          ]
        }
      ],
      "source": [
        "class Student:\n",
        "    college = 'Stanford' #static variable\n",
        "\n",
        "    def __init__(self, name, rno, marks):\n",
        "        self.name = name\n",
        "        self.rno = rno\n",
        "        self.marks = marks\n",
        "\n",
        "    def display(self):\n",
        "        print(self.name, self.rno, self.marks)\n",
        "        print(self.college)  #accessing the static variable inside a class\n",
        "\n",
        "student2 = Student('Ann', 2, 98)\n",
        "student3 = Student('John', 6, 76)\n",
        "\n",
        "student2.display()\n",
        "\n",
        "student3.display()"
      ]
    },
    {
      "cell_type": "code",
      "execution_count": null,
      "id": "8db02b94",
      "metadata": {
        "id": "8db02b94",
        "outputId": "bef926d0-ead1-469c-d501-c343fd6a8f4f"
      },
      "outputs": [
        {
          "name": "stdout",
          "output_type": "stream",
          "text": [
            "Stanford\n",
            "Stanford\n"
          ]
        }
      ],
      "source": [
        "# accessing the static variable outside the class\n",
        "\n",
        "print(Student.college)  #using the ClassName\n",
        "print(student2.college)  #using the object_name"
      ]
    },
    {
      "cell_type": "code",
      "execution_count": null,
      "id": "073974f5",
      "metadata": {
        "id": "073974f5",
        "outputId": "f83d4a05-6eb3-45e8-f199-0c2bc6fce34b"
      },
      "outputs": [
        {
          "name": "stdout",
          "output_type": "stream",
          "text": [
            "Ann 2 98\n",
            "ABCD\n",
            "John 6 76\n",
            "ABCD\n"
          ]
        }
      ],
      "source": [
        "#let us see if we can change this static variable\n",
        "\n",
        "Student.college = 'ABCD'\n",
        "\n",
        "student2.display()\n",
        "student3.display()"
      ]
    },
    {
      "cell_type": "code",
      "execution_count": null,
      "id": "4ce856c8",
      "metadata": {
        "id": "4ce856c8",
        "outputId": "94ef6511-7f1d-48b5-e1cb-811a6fe7c47e"
      },
      "outputs": [
        {
          "name": "stdout",
          "output_type": "stream",
          "text": [
            "Help on class Student in module __main__:\n",
            "\n",
            "class Student(builtins.object)\n",
            " |  Student(name, rno, marks)\n",
            " |  \n",
            " |  Methods defined here:\n",
            " |  \n",
            " |  __init__(self, name, rno, marks)\n",
            " |      Initialize self.  See help(type(self)) for accurate signature.\n",
            " |  \n",
            " |  display(self)\n",
            " |  \n",
            " |  ----------------------------------------------------------------------\n",
            " |  Data descriptors defined here:\n",
            " |  \n",
            " |  __dict__\n",
            " |      dictionary for instance variables (if defined)\n",
            " |  \n",
            " |  __weakref__\n",
            " |      list of weak references to the object (if defined)\n",
            " |  \n",
            " |  ----------------------------------------------------------------------\n",
            " |  Data and other attributes defined here:\n",
            " |  \n",
            " |  college = 'ABCD'\n",
            "\n"
          ]
        }
      ],
      "source": [
        "help(Student)"
      ]
    },
    {
      "cell_type": "markdown",
      "id": "999ab999",
      "metadata": {
        "id": "999ab999"
      },
      "source": [
        "**Local variable**"
      ]
    },
    {
      "cell_type": "code",
      "execution_count": null,
      "id": "398c2a37",
      "metadata": {
        "id": "398c2a37"
      },
      "outputs": [],
      "source": [
        "class Test:\n",
        "    def m1(self):\n",
        "        x = 10\n",
        "        print(x)\n",
        "\n",
        "    def m2(self):\n",
        "        y = 20\n",
        "        print(y)"
      ]
    },
    {
      "cell_type": "code",
      "execution_count": null,
      "id": "45c87058",
      "metadata": {
        "id": "45c87058",
        "outputId": "3db3411c-34a7-4c76-c232-876c09598569"
      },
      "outputs": [
        {
          "name": "stdout",
          "output_type": "stream",
          "text": [
            "10\n",
            "20\n"
          ]
        }
      ],
      "source": [
        "test = Test()\n",
        "\n",
        "test.m1()  # accessing the local variable using the object name\n",
        "test.m2()"
      ]
    },
    {
      "cell_type": "code",
      "execution_count": null,
      "id": "d084459e",
      "metadata": {
        "id": "d084459e",
        "outputId": "d92bedc8-404c-4c1d-c8b0-9e39882b8eed"
      },
      "outputs": [
        {
          "name": "stdout",
          "output_type": "stream",
          "text": [
            "Help on class Test in module __main__:\n",
            "\n",
            "class Test(builtins.object)\n",
            " |  Methods defined here:\n",
            " |  \n",
            " |  m1(self)\n",
            " |  \n",
            " |  m2(self)\n",
            " |  \n",
            " |  ----------------------------------------------------------------------\n",
            " |  Data descriptors defined here:\n",
            " |  \n",
            " |  __dict__\n",
            " |      dictionary for instance variables (if defined)\n",
            " |  \n",
            " |  __weakref__\n",
            " |      list of weak references to the object (if defined)\n",
            "\n"
          ]
        }
      ],
      "source": [
        "help(Test)"
      ]
    },
    {
      "cell_type": "markdown",
      "id": "5c1d21e1",
      "metadata": {
        "id": "5c1d21e1"
      },
      "source": [
        "## Types of methods (behaviours)\n",
        "\n",
        "1. Instance method\n",
        "\n",
        "    - Uses the **self** parameter which indicates that or points to an object instance\n",
        "    - **Instance variables are used with instance methods**\n",
        "    - Can be used to modify the instance state\n",
        "    "
      ]
    },
    {
      "cell_type": "code",
      "execution_count": null,
      "id": "eefd92d8",
      "metadata": {
        "id": "eefd92d8",
        "outputId": "476d03cc-c8f5-483a-b41a-b25cffccf32a"
      },
      "outputs": [
        {
          "name": "stdout",
          "output_type": "stream",
          "text": [
            "<__main__.Pupil object at 0x000001AB0B697490>\n",
            "48.666666666666664\n"
          ]
        }
      ],
      "source": [
        "class Pupil:\n",
        "    school = 'NASA'\n",
        "\n",
        "    def __init__(self, m1,m2,m3):\n",
        "        self.m1 = m1\n",
        "        self.m2 = m2\n",
        "        self.m3 = m3\n",
        "\n",
        "    #defining an instance method - you can see it uses the self parameter\n",
        "    def avg(self):\n",
        "        return(self.m1+self.m2+self.m3)/3\n",
        "\n",
        "s1 = Pupil(34, 45, 67)\n",
        "\n",
        "print(s1)\n",
        "\n",
        "#calling the instance method requires that you specify the object name\n",
        "\n",
        "print(s1.avg())"
      ]
    },
    {
      "cell_type": "markdown",
      "id": "e10b6efb",
      "metadata": {
        "id": "e10b6efb"
      },
      "source": [
        "2. Class method\n",
        "\n",
        "    - Uses the **cls** parameter which indicates that or points to the class and not the object instance when the method is called\n",
        "    - **Class(i.e static) variables are used with class methods**"
      ]
    },
    {
      "cell_type": "code",
      "execution_count": null,
      "id": "004c3a34",
      "metadata": {
        "id": "004c3a34",
        "outputId": "78843556-1b0c-4209-81f3-64952237b516"
      },
      "outputs": [
        {
          "name": "stdout",
          "output_type": "stream",
          "text": [
            "<__main__.Pupil object at 0x0000023FBD12BA00>\n",
            "NASA\n"
          ]
        }
      ],
      "source": [
        "class Pupil:\n",
        "    school = 'NASA'\n",
        "\n",
        "    def __init__(self, m1,m2,m3):\n",
        "        self.m1 = m1\n",
        "        self.m2 = m2\n",
        "        self.m3 = m3\n",
        "\n",
        "    def avg(self):\n",
        "        return(self.m1+self.m2+self.m3)/3\n",
        "\n",
        "    #creating a class method using the @classmethod decorator\n",
        "\n",
        "    @classmethod\n",
        "    def getSchool(cls):\n",
        "        return cls.school\n",
        "\n",
        "\n",
        "s1 = Pupil(34, 45, 67)\n",
        "\n",
        "print(s1)\n",
        "\n",
        "#remember that the class method points to the class name hence we attach it to the object name\n",
        "print(Pupil.getSchool())\n",
        "\n",
        "#We use Pupil (which is the class name) instead of the Object (s1)\n",
        "#because the getSchool method is attached to the class which in turn is conected to the object,\n",
        "#it is like a subset of the class Pupil"
      ]
    },
    {
      "cell_type": "markdown",
      "id": "57c42cb8",
      "metadata": {
        "id": "57c42cb8"
      },
      "source": [
        "3. Static method\n",
        "\n",
        "    - Uses **neither the self or cls** parameter\n",
        "    - It is free to accept an arbitary number of other parameters\n",
        "    - **Cannot modify object or class state. It is only restricted to the data they can access**"
      ]
    },
    {
      "cell_type": "code",
      "execution_count": null,
      "id": "976eaeca",
      "metadata": {
        "id": "976eaeca",
        "outputId": "c2229e92-e5c6-446b-ce78-596660f06cad"
      },
      "outputs": [
        {
          "name": "stdout",
          "output_type": "stream",
          "text": [
            "I am a Data scientist\n"
          ]
        }
      ],
      "source": [
        "class Pupil:\n",
        "    school = 'NASA'\n",
        "\n",
        "    def __init__(self, m1,m2,m3):\n",
        "        self.m1 = m1\n",
        "        self.m2 = m2\n",
        "        self.m3 = m3\n",
        "\n",
        "    def avg(self):\n",
        "        return(self.m1+self.m2+self.m3)/3\n",
        "\n",
        "    #creating a class method using the @classmethod decorator\n",
        "\n",
        "    @classmethod\n",
        "    def getSchool(cls):\n",
        "        return cls.school\n",
        "\n",
        "    #usually kept blank\n",
        "    @staticmethod\n",
        "    def info():\n",
        "        return('I am a Data scientist')\n",
        "\n",
        "\n",
        "s1 = Pupil(34, 45, 67)\n",
        "\n",
        "\n",
        "print(Pupil.info())"
      ]
    },
    {
      "cell_type": "markdown",
      "id": "c7179e44",
      "metadata": {
        "id": "c7179e44"
      },
      "source": [
        "## Access Modifiers\n",
        "\n",
        "Used to restrict the access to the variables and methods. Python uses the _ symbol to determine the acess control\n",
        "\n",
        "\n",
        "1. Public\n",
        "\n",
        "    - No symbol is used here\n",
        "    - Members (data and functions of a class) defined as public will be accessible from any part of the program\n",
        "    - This is the default state unless otherwise stated\n",
        "    \n",
        "\n",
        "2. Private\n",
        "\n",
        "    - Uses a double underscore __ symbol before the data member of that class\n",
        "    - Members  of a class  declared private are accessible within the class only\n",
        "    - Most secure\n",
        "    \n",
        "    \n",
        "3. Protected\n",
        "\n",
        "    - Uses a single underscore _ symbol before the data member of that class\n",
        "    - Members of a class declared protected are only accessible to a class derived from it\n"
      ]
    },
    {
      "cell_type": "code",
      "execution_count": null,
      "id": "b2cc67a9",
      "metadata": {
        "id": "b2cc67a9"
      },
      "outputs": [],
      "source": [
        "class Boy:\n",
        "    def __init__(self, name, age):\n",
        "\n",
        "        #public data member\n",
        "        self.name=name\n",
        "\n",
        "        #private data member\n",
        "        self.__age = age\n",
        "\n",
        "    def display(self):\n",
        "        print(self.name)"
      ]
    },
    {
      "cell_type": "code",
      "execution_count": null,
      "id": "02919aa9",
      "metadata": {
        "id": "02919aa9",
        "outputId": "507b7f15-c16f-428c-8bb0-10ae076a2900"
      },
      "outputs": [
        {
          "name": "stdout",
          "output_type": "stream",
          "text": [
            "Sam 298\n"
          ]
        }
      ],
      "source": [
        "object_name = Boy('Sam', 298)\n",
        "\n",
        "object_name.display()\n",
        "\n",
        "#this prints just the name, the age is privately secured and therefore not accessible\n"
      ]
    },
    {
      "cell_type": "markdown",
      "id": "52789131",
      "metadata": {
        "id": "52789131"
      },
      "source": [
        "## Create a Bottle class with color and capacity properties"
      ]
    },
    {
      "cell_type": "code",
      "execution_count": null,
      "id": "cccaefe7",
      "metadata": {
        "id": "cccaefe7"
      },
      "outputs": [],
      "source": [
        "class Bottle:\n",
        "\n",
        "    def __init__(self, color, capacity):\n",
        "        self.color = color\n",
        "        self.capacity = capacity\n",
        "\n",
        "    def display(self):\n",
        "        return('The color of the bottle is {} with a capacity of {}L'.format(self.color, self.capacity))\n"
      ]
    },
    {
      "cell_type": "code",
      "execution_count": null,
      "id": "2f9dac08",
      "metadata": {
        "id": "2f9dac08",
        "outputId": "3b3d6629-018b-4046-b2d9-2634030d237a"
      },
      "outputs": [
        {
          "name": "stdout",
          "output_type": "stream",
          "text": [
            "The color of the bottle is Blue with a capacity of 120L\n"
          ]
        }
      ],
      "source": [
        "Mybottle = Bottle('Blue', 120)\n",
        "\n",
        "Mybottle.display()"
      ]
    },
    {
      "cell_type": "markdown",
      "id": "7ed45fdb",
      "metadata": {
        "id": "7ed45fdb"
      },
      "source": [
        "## Create a Human class with some properties and methods"
      ]
    },
    {
      "cell_type": "code",
      "execution_count": null,
      "id": "f40768dd",
      "metadata": {
        "id": "f40768dd",
        "outputId": "0eb38d38-3f1e-4672-aefd-acee153f5a8b"
      },
      "outputs": [
        {
          "name": "stdout",
          "output_type": "stream",
          "text": [
            "<__main__.Human object at 0x0000023FBD21ACA0>\n"
          ]
        }
      ],
      "source": [
        "class Human:\n",
        "    state = 'Ebonyi'\n",
        "\n",
        "    def __init__(self, gender, height, age, occupation):\n",
        "        self.gender = gender\n",
        "        self.height = height\n",
        "        self.age = age\n",
        "        self.occupation = occupation\n",
        "\n",
        "    def show_details(self):\n",
        "        return(self.gender, self.height, self.age, self.occupation)\n",
        "\n",
        "    def getState(cls):\n",
        "        return(cls.state)\n",
        "\n",
        "    def update_age(self, age):\n",
        "        self.age = age\n",
        "        return 'Age updated successfully'\n",
        "\n",
        "human_being = Human('Female', 1.65, 23, 'Data Analyst')\n",
        "print(human_being)"
      ]
    },
    {
      "cell_type": "code",
      "execution_count": null,
      "id": "8a121782",
      "metadata": {
        "id": "8a121782",
        "outputId": "fafd8c74-322e-4b22-e50d-13629db19f9a"
      },
      "outputs": [
        {
          "data": {
            "text/plain": [
              "['__class__',\n",
              " '__delattr__',\n",
              " '__dict__',\n",
              " '__dir__',\n",
              " '__doc__',\n",
              " '__eq__',\n",
              " '__format__',\n",
              " '__ge__',\n",
              " '__getattribute__',\n",
              " '__gt__',\n",
              " '__hash__',\n",
              " '__init__',\n",
              " '__init_subclass__',\n",
              " '__le__',\n",
              " '__lt__',\n",
              " '__module__',\n",
              " '__ne__',\n",
              " '__new__',\n",
              " '__reduce__',\n",
              " '__reduce_ex__',\n",
              " '__repr__',\n",
              " '__setattr__',\n",
              " '__sizeof__',\n",
              " '__str__',\n",
              " '__subclasshook__',\n",
              " '__weakref__',\n",
              " 'getState',\n",
              " 'show_details',\n",
              " 'state',\n",
              " 'update_age']"
            ]
          },
          "execution_count": 59,
          "metadata": {},
          "output_type": "execute_result"
        }
      ],
      "source": [
        "dir(Human)"
      ]
    },
    {
      "cell_type": "code",
      "execution_count": null,
      "id": "38f01dd8",
      "metadata": {
        "id": "38f01dd8",
        "outputId": "1387b335-446a-4f14-918a-b12b09363b00"
      },
      "outputs": [
        {
          "data": {
            "text/plain": [
              "mappingproxy({'__module__': '__main__',\n",
              "              'state': 'Ebonyi',\n",
              "              '__init__': <function __main__.Human.__init__(self, gender, height, age, occupation)>,\n",
              "              'show_details': <function __main__.Human.show_details(self)>,\n",
              "              'getState': <function __main__.Human.getState(cls)>,\n",
              "              'update_age': <function __main__.Human.update_age(self, age)>,\n",
              "              '__dict__': <attribute '__dict__' of 'Human' objects>,\n",
              "              '__weakref__': <attribute '__weakref__' of 'Human' objects>,\n",
              "              '__doc__': None})"
            ]
          },
          "execution_count": 60,
          "metadata": {},
          "output_type": "execute_result"
        }
      ],
      "source": [
        "Human.__dict__"
      ]
    },
    {
      "cell_type": "code",
      "execution_count": null,
      "id": "efa49008",
      "metadata": {
        "id": "efa49008",
        "outputId": "2aa07acc-cf72-4c33-d452-798fbc3841ea"
      },
      "outputs": [
        {
          "data": {
            "text/plain": [
              "('Female', 1.65, 23, 'Data Analyst')"
            ]
          },
          "execution_count": 5,
          "metadata": {},
          "output_type": "execute_result"
        }
      ],
      "source": [
        "human_being.show_details()"
      ]
    },
    {
      "cell_type": "code",
      "execution_count": null,
      "id": "d036b075",
      "metadata": {
        "id": "d036b075",
        "outputId": "73a8d795-c2ce-4cc3-a1e3-a224e6aae01d"
      },
      "outputs": [
        {
          "data": {
            "text/plain": [
              "'Ebonyi'"
            ]
          },
          "execution_count": 6,
          "metadata": {},
          "output_type": "execute_result"
        }
      ],
      "source": [
        "human_being.getState()"
      ]
    },
    {
      "cell_type": "code",
      "execution_count": null,
      "id": "f4fd7be7",
      "metadata": {
        "id": "f4fd7be7",
        "outputId": "ea6ddc28-4f13-4bda-d8b2-a6705a42eb76"
      },
      "outputs": [
        {
          "data": {
            "text/plain": [
              "'Age updated successfully'"
            ]
          },
          "execution_count": 7,
          "metadata": {},
          "output_type": "execute_result"
        }
      ],
      "source": [
        "human_being.update_age(34)"
      ]
    },
    {
      "cell_type": "code",
      "execution_count": null,
      "id": "6f131cf7",
      "metadata": {
        "id": "6f131cf7",
        "outputId": "0ef55be9-a221-4209-fea1-d7c019b8af03"
      },
      "outputs": [
        {
          "data": {
            "text/plain": [
              "('Female', 1.65, 34, 'Data Analyst')"
            ]
          },
          "execution_count": 8,
          "metadata": {},
          "output_type": "execute_result"
        }
      ],
      "source": [
        "human_being.show_details()"
      ]
    },
    {
      "cell_type": "markdown",
      "id": "9ba6065d",
      "metadata": {
        "id": "9ba6065d"
      },
      "source": [
        "## Create a circle class and initialize it with radius. Make two methods getArea and getCircumference inside this class."
      ]
    },
    {
      "cell_type": "code",
      "execution_count": null,
      "id": "af7939fe",
      "metadata": {
        "id": "af7939fe"
      },
      "outputs": [],
      "source": [
        "import math\n",
        "\n",
        "class Circle:\n",
        "    def __init__(self, radius):\n",
        "        self.radius = radius\n",
        "\n",
        "    def getArea(self):\n",
        "        return (3.14*(self.radius)**2)\n",
        "\n",
        "    def getCircumference(self):\n",
        "        return (2*3.14*self.radius)"
      ]
    },
    {
      "cell_type": "code",
      "execution_count": null,
      "id": "0fd99376",
      "metadata": {
        "id": "0fd99376",
        "outputId": "892c8ea8-0d0d-41c0-a2fb-b64d38a14142"
      },
      "outputs": [
        {
          "name": "stdout",
          "output_type": "stream",
          "text": [
            "50.24\n",
            "25.12\n"
          ]
        }
      ],
      "source": [
        "my_circle = Circle(4)\n",
        "\n",
        "print(my_circle.getArea())\n",
        "print(my_circle.getCircumference())"
      ]
    },
    {
      "cell_type": "markdown",
      "id": "4ea20672",
      "metadata": {
        "id": "4ea20672"
      },
      "source": [
        "## Create a Student class and initialize it with name and roll number. Make methods to :\n",
        "\n",
        "    Display - It should display all informations of the student.\n",
        "    setAge - It should assign age to student\n",
        "    setMarks - It should assign marks to the student.\n"
      ]
    },
    {
      "cell_type": "code",
      "execution_count": null,
      "id": "2bc7c897",
      "metadata": {
        "id": "2bc7c897"
      },
      "outputs": [],
      "source": [
        "class Student:\n",
        "\n",
        "    age = 50\n",
        "    marks = 100\n",
        "\n",
        "    def __init__(self, name, rno):\n",
        "        self.name = name\n",
        "        self.rno = rno\n",
        "\n",
        "    def display(self):\n",
        "        return(self.name, self.rno)\n",
        "\n",
        "    @classmethod\n",
        "    def setAge(cls):\n",
        "        return(cls.age)\n",
        "\n",
        "    @classmethod\n",
        "    def setMarks(cls):\n",
        "        return(cls.marks)"
      ]
    },
    {
      "cell_type": "code",
      "execution_count": null,
      "id": "200f96d3",
      "metadata": {
        "id": "200f96d3",
        "outputId": "f586d2ad-5d56-4886-eb2f-724c4e0a8a8d"
      },
      "outputs": [
        {
          "data": {
            "text/plain": [
              "('Jane', 21)"
            ]
          },
          "execution_count": 62,
          "metadata": {},
          "output_type": "execute_result"
        }
      ],
      "source": [
        "students = Student(name='Jane', rno=21)\n",
        "\n",
        "students.display()\n",
        "\n",
        "#Student.setAge()\n",
        "\n",
        "#students = Student.setMarks()"
      ]
    },
    {
      "cell_type": "code",
      "execution_count": null,
      "id": "e6cd0907",
      "metadata": {
        "id": "e6cd0907",
        "outputId": "f17ac0ee-7e32-4a86-d8fa-39960bee7e1b"
      },
      "outputs": [
        {
          "data": {
            "text/plain": [
              "mappingproxy({'__module__': '__main__',\n",
              "              'age': 50,\n",
              "              'marks': 100,\n",
              "              '__init__': <function __main__.Student.__init__(self, name, rno)>,\n",
              "              'display': <function __main__.Student.display(self)>,\n",
              "              'setAge': <classmethod at 0x23fbd132550>,\n",
              "              'setMarks': <classmethod at 0x23fbd132130>,\n",
              "              '__dict__': <attribute '__dict__' of 'Student' objects>,\n",
              "              '__weakref__': <attribute '__weakref__' of 'Student' objects>,\n",
              "              '__doc__': None})"
            ]
          },
          "execution_count": 61,
          "metadata": {},
          "output_type": "execute_result"
        }
      ],
      "source": [
        "Student.__dict__"
      ]
    },
    {
      "cell_type": "markdown",
      "id": "3a31b20c",
      "metadata": {
        "id": "3a31b20c"
      },
      "source": [
        "## Create a Temprature class. Make two methods :\n",
        "\n",
        "    convertFahrenheit - It will take celsius and will print it into Fahrenheit.\n",
        "    convertCelsius - It will take Fahrenheit and will convert it into Celsius.\n"
      ]
    },
    {
      "cell_type": "code",
      "execution_count": null,
      "id": "e9e9edbd",
      "metadata": {
        "id": "e9e9edbd"
      },
      "outputs": [],
      "source": [
        "class Temperature:\n",
        "    def __init__(self, x):\n",
        "        self.x = x\n",
        "\n",
        "    def convertCelsius(self):\n",
        "        return ((self.x-32)*5/9)\n",
        "\n",
        "    def convertFahrenheit(self):\n",
        "        return (self.x*(9/5))+32"
      ]
    },
    {
      "cell_type": "code",
      "execution_count": null,
      "id": "0d80a553",
      "metadata": {
        "id": "0d80a553",
        "outputId": "12f68715-70ab-4e5d-dbc9-3f3f629152d5"
      },
      "outputs": [
        {
          "name": "stdout",
          "output_type": "stream",
          "text": [
            "152.60000000000002\n",
            "19.444444444444443\n"
          ]
        }
      ],
      "source": [
        "temp_check = Temperature(67)\n",
        "\n",
        "print(temp_check.convertFahrenheit())\n",
        "print(temp_check.convertCelsius())"
      ]
    },
    {
      "cell_type": "markdown",
      "id": "36e55790",
      "metadata": {
        "id": "36e55790"
      },
      "source": [
        "## Create a class Expenditure and initialize it with salary,savings, category , total expenditure.Make the following methods.\n",
        "\n",
        "    Add expenditure according to category .\n",
        "    Calculate total expenditure.\n",
        "    Calculate per day expenditure and a two months expenditure.\n"
      ]
    },
    {
      "cell_type": "code",
      "execution_count": null,
      "id": "5fd4df97",
      "metadata": {
        "id": "5fd4df97"
      },
      "outputs": [],
      "source": [
        "class Expenditure:\n",
        "\n",
        "    def __init__(self,salary,savings):\n",
        "        self.salary = salary\n",
        "        self.savings = savings\n",
        "        self.categories = {}   #intializes a dictionary\n",
        "        self.total_expenditure = 0   #this value will be updated, hence it is intialized by setting it 0\n",
        "\n",
        "    def category_expenditure(self, category, expenses): #this method takes two parameters\n",
        "\n",
        "        #first, we check if the category exists and then add the amount entered to the expenditure for that category\n",
        "        if category in self.categories:\n",
        "            self.categories[category] += expenses\n",
        "\n",
        "        #if it doesn't it adds the new category and the expense for that category\n",
        "        else:\n",
        "            self.categories[category] = expenses\n",
        "\n",
        "        #When the conditional statement has been fulfilled, the amount is added to the total_expensiture and it is therefore updated\n",
        "        self.total_expenditure += expenses\n",
        "\n",
        "        return self.categories, self.total_expenditure\n",
        "\n",
        "    #remember the total_expensiture is always updated therefore at anytime we have the total expenditure in that variable\n",
        "    def cal_total_expenditure(self):\n",
        "        return self.total_expenditure\n",
        "\n",
        "    def daily_expenditure(self):\n",
        "        days = 30\n",
        "        return self.total_expenditure/days\n",
        "\n",
        "    def monthly_expenditure(self, month):\n",
        "        return self.total_expenditure*month"
      ]
    },
    {
      "cell_type": "code",
      "execution_count": null,
      "id": "4b89d109",
      "metadata": {
        "scrolled": true,
        "id": "4b89d109",
        "outputId": "d443edd0-d8af-4c08-f476-07e2d6389414"
      },
      "outputs": [
        {
          "name": "stdout",
          "output_type": "stream",
          "text": [
            "Help on class Expenditure in module __main__:\n",
            "\n",
            "class Expenditure(builtins.object)\n",
            " |  Expenditure(salary, savings)\n",
            " |  \n",
            " |  Methods defined here:\n",
            " |  \n",
            " |  __init__(self, salary, savings)\n",
            " |      Initialize self.  See help(type(self)) for accurate signature.\n",
            " |  \n",
            " |  cal_total_expenditure(self)\n",
            " |      #remember the total_expensiture is always updated therefore at anytime we have the total expenditure in that variable\n",
            " |  \n",
            " |  category_expenditure(self, category, expenses)\n",
            " |  \n",
            " |  daily_expenditure(self)\n",
            " |  \n",
            " |  monthly_expenditure(self, month)\n",
            " |  \n",
            " |  ----------------------------------------------------------------------\n",
            " |  Data descriptors defined here:\n",
            " |  \n",
            " |  __dict__\n",
            " |      dictionary for instance variables (if defined)\n",
            " |  \n",
            " |  __weakref__\n",
            " |      list of weak references to the object (if defined)\n",
            "\n"
          ]
        }
      ],
      "source": [
        "help(Expenditure)"
      ]
    },
    {
      "cell_type": "code",
      "execution_count": null,
      "id": "5ea4486c",
      "metadata": {
        "id": "5ea4486c",
        "outputId": "70b28681-4c9b-4323-8cbb-42d07ab36646"
      },
      "outputs": [
        {
          "data": {
            "text/plain": [
              "({'food': 500, 'shoes': 800, 'mouse': 1500, 'fan': 300}, 3100)"
            ]
          },
          "execution_count": 102,
          "metadata": {},
          "output_type": "execute_result"
        }
      ],
      "source": [
        "expenditure_tracker = Expenditure(salary = 5000, savings= 1000)\n",
        "\n",
        "## Let me add some of the expenses I have made\n",
        "\n",
        "expenditure_tracker.category_expenditure('food', 500)\n",
        "expenditure_tracker.category_expenditure('shoes', 800)\n",
        "expenditure_tracker.category_expenditure('mouse', 1500)\n",
        "expenditure_tracker.category_expenditure('fan', 300)"
      ]
    },
    {
      "cell_type": "code",
      "execution_count": null,
      "id": "3fe16280",
      "metadata": {
        "id": "3fe16280",
        "outputId": "09a03798-f49f-49f5-accf-63bab9c3151a"
      },
      "outputs": [
        {
          "data": {
            "text/plain": [
              "3100"
            ]
          },
          "execution_count": 103,
          "metadata": {},
          "output_type": "execute_result"
        }
      ],
      "source": [
        "#checking for total_expenditure so far\n",
        "\n",
        "expenditure_tracker.cal_total_expenditure()"
      ]
    },
    {
      "cell_type": "code",
      "execution_count": null,
      "id": "3e9e9a4c",
      "metadata": {
        "id": "3e9e9a4c",
        "outputId": "8b9c3108-b0d3-4dfa-fad4-457b2af24fc4"
      },
      "outputs": [
        {
          "data": {
            "text/plain": [
              "103.33333333333333"
            ]
          },
          "execution_count": 104,
          "metadata": {},
          "output_type": "execute_result"
        }
      ],
      "source": [
        "#what is my daily expenditure like assuming that the total_expenditure is my total expenses for a month\n",
        "\n",
        "expenditure_tracker.daily_expenditure()"
      ]
    },
    {
      "cell_type": "code",
      "execution_count": null,
      "id": "7e917e35",
      "metadata": {
        "id": "7e917e35",
        "outputId": "6d99b2ed-acc2-46fd-9ec9-e3e8e1e96052"
      },
      "outputs": [
        {
          "data": {
            "text/plain": [
              "9300"
            ]
          },
          "execution_count": 106,
          "metadata": {},
          "output_type": "execute_result"
        }
      ],
      "source": [
        "#what will my expenditure be for the next two months\n",
        "\n",
        "expenditure_tracker.monthly_expenditure(3)"
      ]
    },
    {
      "cell_type": "markdown",
      "id": "5f505c97",
      "metadata": {
        "id": "5f505c97"
      },
      "source": [
        "OOP feels like creating normal functions in python. It is simply a way to help you structure your code in parts and working to see each part works as it should in order to meet your overall goal. There's a second part and maybe a third part to this learning on OOP.\n",
        "\n",
        "I learnt a great deal here!"
      ]
    },
    {
      "cell_type": "code",
      "execution_count": null,
      "id": "3cd53314",
      "metadata": {
        "id": "3cd53314"
      },
      "outputs": [],
      "source": []
    }
  ],
  "metadata": {
    "kernelspec": {
      "display_name": "Python 3 (ipykernel)",
      "language": "python",
      "name": "python3"
    },
    "language_info": {
      "codemirror_mode": {
        "name": "ipython",
        "version": 3
      },
      "file_extension": ".py",
      "mimetype": "text/x-python",
      "name": "python",
      "nbconvert_exporter": "python",
      "pygments_lexer": "ipython3",
      "version": "3.12.7"
    },
    "colab": {
      "provenance": [],
      "include_colab_link": true
    }
  },
  "nbformat": 4,
  "nbformat_minor": 5
}